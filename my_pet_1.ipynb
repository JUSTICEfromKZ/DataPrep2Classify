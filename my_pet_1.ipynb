{
 "cells": [
  {
   "cell_type": "markdown",
   "metadata": {},
   "source": [
    "# Данные были взяты из конкурса «Data Fusion Contest 2025 - Задача 1 \"Label Craft\"» на 2 миллиона рублей.\n",
    "\n",
    "Ссылка: https://ods.ai/competitions/data-fusion2025-labelcraft"
   ]
  },
  {
   "cell_type": "markdown",
   "metadata": {},
   "source": [
    "# О данных\n",
    "\n",
    "\n",
    "Размеченные данные о товарах (labeled_train.parquet)\n",
    "\n",
    "Основная информация о товарах, включая их размеченную категорию:\n",
    "\n",
    "hash_id – Идентификатор товара\n",
    "\n",
    "source_name — Название товара\n",
    "\n",
    "attributes – Атрибуты товара\n",
    "\n",
    "cat_id – Целевая категория товара"
   ]
  },
  {
   "cell_type": "markdown",
   "metadata": {},
   "source": [
    "# Цель\n",
    "\n",
    "Целью данного проекта является построение эффективной модели машинного обучения для классификации товаров по категориям.\n",
    "\n",
    "\n"
   ]
  },
  {
   "cell_type": "markdown",
   "metadata": {},
   "source": [
    "# Этапы выполнения проекта\n",
    "\n",
    "Работа над проектом охватывала полный цикл задач, начиная от анализа и предварительной обработки исходных (\"сырых\") данных и заканчивая обучением и оценкой итоговой модели. Процесс включал следующие основные этапы:\n",
    "\n",
    "    1) Загрузка данных: Получение исходных наборов данных.\n",
    "    2) Обработка данных:\n",
    "        2.1. Удаление неинформативных признаков\n",
    "        2.2. Объединение информации из схожих источников и агрегация схожих записей.\n",
    "        2.3. Переименование столбцов для приведения к единому стандарту или для улучшения читаемости.\n",
    "        2.4. Очистка и стандартизация данных.\n",
    "        2.5. Удаление дубликатов записей.\n",
    "        2.6. Обработка пропусков.\n",
    "    3) Исследовательский анализ данных.\n",
    "    4) Подготовка данных для моделирования.\n",
    "    5) Построение модели.\n",
    "    6) Оценка качества модели.\n",
    "    7) Заключение."
   ]
  },
  {
   "cell_type": "markdown",
   "metadata": {},
   "source": [
    "# Результат\n",
    "\n",
    "    RandomForest:\n",
    "Точность (Accuracy): 0.7714                                                                                                                                                                                             \n",
    "Взвешенная F1-мера (Weighted F1-score): 0.7725                                                                                                                                                                            \n",
    "Макро-F1-мера (Macro F1-score): 0.7522                                                                                                                                                                                  \n",
    "\n",
    "    XGBoost:\n",
    "Точность (Accuracy): 0.8197                                                                                                                                                                                             \n",
    "Взвешенная F1-мера (Weighted F1-score): 0.8208                                                                                                                                                                          \n",
    "Макро-F1-мера (Macro F1-score): 0.8064                                                                                                                                                                                  \n",
    "\n",
    "    k-NN:\n",
    "Точность (Accuracy): 0.5740                                                                                                                                                                                             \n",
    "Взвешенная F1-мера (Weighted F1-score): 0.5782                                                                                                                                                                          \n",
    "Макро-F1-мера (Macro F1-score): 0.5417                                                                                                                                                                                  "
   ]
  },
  {
   "cell_type": "markdown",
   "metadata": {},
   "source": [
    "# Обратите внимание\n",
    "\n",
    "Первоначально я планировал использовать мощь LLM-модели для интеллектуальной обработки и обогащения данных. Идея заключалась в том, чтобы с помощью анализа существующих столбцов извлечь необходимую информацию непосредственно из контекста некоторых столбцов.\n",
    "\n",
    "Однако, учитывая ограниченные вычислительные ресурсы моего ноутбука, я вынужден адаптировать подход и реализовать решение в рамках доступных возможностей."
   ]
  },
  {
   "cell_type": "code",
   "execution_count": 1,
   "metadata": {},
   "outputs": [],
   "source": [
    "# Импортируем необходимые библиотеки\n",
    "import pandas as pd\n",
    "import numpy as np\n",
    "import seaborn as sns\n",
    "import matplotlib.pyplot as plt\n",
    "import warnings\n",
    "\n",
    "warnings.filterwarnings('ignore')\n",
    "\n",
    "pd.set_option('display.max_columns', 40) # изменяем max показ колонок до 40\n",
    "pd.set_option('display.max_colwidth', None) # Чтобы увидеть значение полностю"
   ]
  },
  {
   "cell_type": "code",
   "execution_count": 2,
   "metadata": {},
   "outputs": [
    {
     "name": "stdout",
     "output_type": "stream",
     "text": [
      "<class 'pandas.core.frame.DataFrame'>\n",
      "RangeIndex: 716552 entries, 0 to 716551\n",
      "Data columns (total 4 columns):\n",
      " #   Column       Non-Null Count   Dtype \n",
      "---  ------       --------------   ----- \n",
      " 0   hash_id      716552 non-null  object\n",
      " 1   source_name  716552 non-null  object\n",
      " 2   attributes   716552 non-null  object\n",
      " 3   cat_id       716552 non-null  int32 \n",
      "dtypes: int32(1), object(3)\n",
      "memory usage: 19.1+ MB\n"
     ]
    }
   ],
   "source": [
    "df_lab = pd.read_parquet(\"C:/Users/user/Downloads/labeled_train.parquet\")\n",
    "df_lab.info()"
   ]
  },
  {
   "cell_type": "code",
   "execution_count": 3,
   "metadata": {},
   "outputs": [
    {
     "data": {
      "text/plain": [
       "hash_id        0\n",
       "source_name    0\n",
       "attributes     0\n",
       "cat_id         0\n",
       "dtype: int64"
      ]
     },
     "execution_count": 3,
     "metadata": {},
     "output_type": "execute_result"
    }
   ],
   "source": [
    "df_lab.isna().sum() # Анализ пропущенных значений"
   ]
  },
  {
   "cell_type": "code",
   "execution_count": 4,
   "metadata": {},
   "outputs": [
    {
     "data": {
      "text/html": [
       "<div>\n",
       "<style scoped>\n",
       "    .dataframe tbody tr th:only-of-type {\n",
       "        vertical-align: middle;\n",
       "    }\n",
       "\n",
       "    .dataframe tbody tr th {\n",
       "        vertical-align: top;\n",
       "    }\n",
       "\n",
       "    .dataframe thead th {\n",
       "        text-align: right;\n",
       "    }\n",
       "</style>\n",
       "<table border=\"1\" class=\"dataframe\">\n",
       "  <thead>\n",
       "    <tr style=\"text-align: right;\">\n",
       "      <th></th>\n",
       "      <th>hash_id</th>\n",
       "      <th>source_name</th>\n",
       "      <th>attributes</th>\n",
       "      <th>cat_id</th>\n",
       "    </tr>\n",
       "  </thead>\n",
       "  <tbody>\n",
       "    <tr>\n",
       "      <th>0</th>\n",
       "      <td>00002c14676b6a5c02d01fd82a92bd50</td>\n",
       "      <td>Бойник барабана для стиральной машины Candy, Vestel, Bompani, Whirlpool</td>\n",
       "      <td>[{\"\"attribute_id\"\":8,\"\"attribute_name\"\":\"\"Поставщик\"\",\"\"attribute_value\"\":\"\"Нет бренда\"\"},{\"\"attribute_id\"\":14,\"\"attribute_name\"\":\"\"Возможность самовывоза\"\",\"\"attribute_value\"\":\"\"Да\"\"},{\"\"attribute_id\"\":15,\"\"attribute_name\"\":\"\"Возможность доставки\"\",\"\"attribute_value\"\":\"\"Нет\"\"},{\"\"attribute_id\"\":45,\"\"attribute_name\"\":\"\"Гарантия\"\",\"\"attribute_value\"\":\"\"Нет\"\"},{\"\"attribute_id\"\":49,\"\"attribute_name\"\":\"\"Страна\"\",\"\"attribute_value\"\":\"\"Турция\"\"},{\"\"attribute_id\"\":52,\"\"attribute_name\"\":\"\"Вес\"\",\"\"attribute_measure\"\":\"\"грамм\"\",\"\"attribute_value\"\":\"\"100\"\"},{\"\"attribute_id\"\":96,\"\"attribute_name\"\":\"\"Материал\"\",\"\"attribute_value\"\":\"\"Пластик\"\"},{\"\"attribute_id\"\":482,\"\"attribute_name\"\":\"\"Размер\"\",\"\"attribute_value\"\":\"\"Длина 18 Ширина 5 Высота 5\"\"},{\"\"attribute_id\"\":11740,\"\"attribute_name\"\":\"\"Ширина упаковки\"\",\"\"attribute_measure\"\":\"\"сантиметр\"\",\"\"attribute_value\"\":\"\"5\"\"},{\"\"attribute_id\"\":11742,\"\"attribute_name\"\":\"\"Высота упаковки\"\",\"\"attribute_measure\"\":\"\"сантиметр\"\",\"\"attribute_value\"\":\"\"5\"\"},{\"\"attribute_id\"\":12335,\"\"attribute_name\"\":\"\"В наличии\"\",\"\"attribute_value\"\":\"\"Да\"\"},{\"\"attribute_id\"\":12405,\"\"attribute_name\"\":\"\"Ebsmstock\"\",\"\"attribute_value\"\":\"\"Нет\"\"},{\"\"attribute_id\"\":12406,\"\"attribute_name\"\":\"\"Модель устройства\"\",\"\"attribute_value\"\":\"\"КХ-0012297\"\"},{\"\"attribute_id\"\":12407,\"\"attribute_name\"\":\"\"Название\"\",\"\"attribute_value\"\":\"\"Бойник барабана для стиральной машины Candy, Vestel, Bompani, Whirlpool\"\"},{\"\"attribute_id\"\":12411,\"\"attribute_name\"\":\"\"Глубина упаковки\"\",\"\"attribute_measure\"\":\"\"сантиметр\"\",\"\"attribute_value\"\":\"\"18\"\"}]</td>\n",
       "      <td>10501</td>\n",
       "    </tr>\n",
       "  </tbody>\n",
       "</table>\n",
       "</div>"
      ],
      "text/plain": [
       "                            hash_id  \\\n",
       "0  00002c14676b6a5c02d01fd82a92bd50   \n",
       "\n",
       "                                                               source_name  \\\n",
       "0  Бойник барабана для стиральной машины Candy, Vestel, Bompani, Whirlpool   \n",
       "\n",
       "                                                                                                                                                                                                                                                                                                                                                                                                                                                                                                                                                                                                                                                                                                                                                                                                                                                                                                                                                                                                                                                                                                                                                                                                                                                                                                                                                                                                                                                                                                                                                                                                     attributes  \\\n",
       "0  [{\"\"attribute_id\"\":8,\"\"attribute_name\"\":\"\"Поставщик\"\",\"\"attribute_value\"\":\"\"Нет бренда\"\"},{\"\"attribute_id\"\":14,\"\"attribute_name\"\":\"\"Возможность самовывоза\"\",\"\"attribute_value\"\":\"\"Да\"\"},{\"\"attribute_id\"\":15,\"\"attribute_name\"\":\"\"Возможность доставки\"\",\"\"attribute_value\"\":\"\"Нет\"\"},{\"\"attribute_id\"\":45,\"\"attribute_name\"\":\"\"Гарантия\"\",\"\"attribute_value\"\":\"\"Нет\"\"},{\"\"attribute_id\"\":49,\"\"attribute_name\"\":\"\"Страна\"\",\"\"attribute_value\"\":\"\"Турция\"\"},{\"\"attribute_id\"\":52,\"\"attribute_name\"\":\"\"Вес\"\",\"\"attribute_measure\"\":\"\"грамм\"\",\"\"attribute_value\"\":\"\"100\"\"},{\"\"attribute_id\"\":96,\"\"attribute_name\"\":\"\"Материал\"\",\"\"attribute_value\"\":\"\"Пластик\"\"},{\"\"attribute_id\"\":482,\"\"attribute_name\"\":\"\"Размер\"\",\"\"attribute_value\"\":\"\"Длина 18 Ширина 5 Высота 5\"\"},{\"\"attribute_id\"\":11740,\"\"attribute_name\"\":\"\"Ширина упаковки\"\",\"\"attribute_measure\"\":\"\"сантиметр\"\",\"\"attribute_value\"\":\"\"5\"\"},{\"\"attribute_id\"\":11742,\"\"attribute_name\"\":\"\"Высота упаковки\"\",\"\"attribute_measure\"\":\"\"сантиметр\"\",\"\"attribute_value\"\":\"\"5\"\"},{\"\"attribute_id\"\":12335,\"\"attribute_name\"\":\"\"В наличии\"\",\"\"attribute_value\"\":\"\"Да\"\"},{\"\"attribute_id\"\":12405,\"\"attribute_name\"\":\"\"Ebsmstock\"\",\"\"attribute_value\"\":\"\"Нет\"\"},{\"\"attribute_id\"\":12406,\"\"attribute_name\"\":\"\"Модель устройства\"\",\"\"attribute_value\"\":\"\"КХ-0012297\"\"},{\"\"attribute_id\"\":12407,\"\"attribute_name\"\":\"\"Название\"\",\"\"attribute_value\"\":\"\"Бойник барабана для стиральной машины Candy, Vestel, Bompani, Whirlpool\"\"},{\"\"attribute_id\"\":12411,\"\"attribute_name\"\":\"\"Глубина упаковки\"\",\"\"attribute_measure\"\":\"\"сантиметр\"\",\"\"attribute_value\"\":\"\"18\"\"}]   \n",
       "\n",
       "   cat_id  \n",
       "0   10501  "
      ]
     },
     "execution_count": 4,
     "metadata": {},
     "output_type": "execute_result"
    }
   ],
   "source": [
    "df_lab.head(1)"
   ]
  },
  {
   "cell_type": "markdown",
   "metadata": {},
   "source": [
    "В колонке 'атрибуты' значения представлены в формате, похожем на JSON, но с некорректными кавычками."
   ]
  },
  {
   "cell_type": "code",
   "execution_count": 5,
   "metadata": {},
   "outputs": [],
   "source": [
    "df_lab.loc[:,'attributes'] =  df_lab.loc[:,'attributes'].str.replace('\"\"', '\"') # Заменяем кавычки"
   ]
  },
  {
   "cell_type": "code",
   "execution_count": 6,
   "metadata": {},
   "outputs": [],
   "source": [
    "import json"
   ]
  },
  {
   "cell_type": "code",
   "execution_count": 7,
   "metadata": {},
   "outputs": [],
   "source": [
    "# Функция для преобразования JSON в словарь\n",
    "def unpack_attributes(json_str):\n",
    "    try:\n",
    "        attributes = json.loads(json_str)  # Разбираем JSON\n",
    "        return {attr.get(\"attribute_name\", f\"unknown_{attr.get('attribute_id', 'id')}\"): \n",
    "                attr.get(\"attribute_value\", None) for attr in attributes}\n",
    "    except json.JSONDecodeError:\n",
    "        return {}  # Если ошибка декодирования, вернем пустой словарь\n",
    "\n",
    "# Разворачиваем JSON-данные в новые колонки\n",
    "df_expanded = df_lab['attributes'].apply(lambda x: pd.Series(unpack_attributes(x)))"
   ]
  },
  {
   "cell_type": "code",
   "execution_count": 8,
   "metadata": {},
   "outputs": [],
   "source": [
    "# Объединяем с исходным DataFrame\n",
    "df_lab1 = pd.concat([df_lab.drop('attributes', axis=1), df_expanded], axis=1)"
   ]
  },
  {
   "cell_type": "code",
   "execution_count": 9,
   "metadata": {},
   "outputs": [
    {
     "data": {
      "text/html": [
       "<div>\n",
       "<style scoped>\n",
       "    .dataframe tbody tr th:only-of-type {\n",
       "        vertical-align: middle;\n",
       "    }\n",
       "\n",
       "    .dataframe tbody tr th {\n",
       "        vertical-align: top;\n",
       "    }\n",
       "\n",
       "    .dataframe thead th {\n",
       "        text-align: right;\n",
       "    }\n",
       "</style>\n",
       "<table border=\"1\" class=\"dataframe\">\n",
       "  <thead>\n",
       "    <tr style=\"text-align: right;\">\n",
       "      <th></th>\n",
       "      <th>hash_id</th>\n",
       "      <th>source_name</th>\n",
       "      <th>cat_id</th>\n",
       "      <th>Поставщик</th>\n",
       "      <th>Возможность самовывоза</th>\n",
       "      <th>Возможность доставки</th>\n",
       "      <th>Гарантия</th>\n",
       "      <th>Страна</th>\n",
       "      <th>Вес</th>\n",
       "      <th>Материал</th>\n",
       "      <th>Размер</th>\n",
       "      <th>Ширина упаковки</th>\n",
       "      <th>Высота упаковки</th>\n",
       "      <th>В наличии</th>\n",
       "      <th>Ebsmstock</th>\n",
       "      <th>Модель устройства</th>\n",
       "      <th>Название</th>\n",
       "      <th>Глубина упаковки</th>\n",
       "      <th>Максимальная мощность</th>\n",
       "      <th>Максимальная глубина погружения</th>\n",
       "      <th>...</th>\n",
       "      <th>Толщина столешницы от</th>\n",
       "      <th>Варочная панель</th>\n",
       "      <th>Нагрев с одной стороны</th>\n",
       "      <th>Решетка для гриля</th>\n",
       "      <th>Противень для выпекания</th>\n",
       "      <th>Фильтр hepa</th>\n",
       "      <th>Емкость контейнера</th>\n",
       "      <th>Режим \"дожаривание\"</th>\n",
       "      <th>Микроволны+гриль+конвекция</th>\n",
       "      <th>Режим подогрева</th>\n",
       "      <th>Регулировка температуры кофе</th>\n",
       "      <th>Включение и выключение по расписанию</th>\n",
       "      <th>Мониторинг энергопотребления</th>\n",
       "      <th>Бессрочный</th>\n",
       "      <th>Версия издания</th>\n",
       "      <th>Утапливаемые ручки управления</th>\n",
       "      <th>Количество в упаковке, шт.</th>\n",
       "      <th>Воздушный поток</th>\n",
       "      <th>Тип коннектора</th>\n",
       "      <th>Прямой привод</th>\n",
       "    </tr>\n",
       "  </thead>\n",
       "  <tbody>\n",
       "    <tr>\n",
       "      <th>0</th>\n",
       "      <td>00002c14676b6a5c02d01fd82a92bd50</td>\n",
       "      <td>Бойник барабана для стиральной машины Candy, Vestel, Bompani, Whirlpool</td>\n",
       "      <td>10501</td>\n",
       "      <td>Нет бренда</td>\n",
       "      <td>Да</td>\n",
       "      <td>Нет</td>\n",
       "      <td>Нет</td>\n",
       "      <td>Турция</td>\n",
       "      <td>100</td>\n",
       "      <td>Пластик</td>\n",
       "      <td>Длина 18 Ширина 5 Высота 5</td>\n",
       "      <td>5</td>\n",
       "      <td>5</td>\n",
       "      <td>Да</td>\n",
       "      <td>Нет</td>\n",
       "      <td>КХ-0012297</td>\n",
       "      <td>Бойник барабана для стиральной машины Candy, Vestel, Bompani, Whirlpool</td>\n",
       "      <td>18</td>\n",
       "      <td>NaN</td>\n",
       "      <td>NaN</td>\n",
       "      <td>...</td>\n",
       "      <td>NaN</td>\n",
       "      <td>NaN</td>\n",
       "      <td>NaN</td>\n",
       "      <td>NaN</td>\n",
       "      <td>NaN</td>\n",
       "      <td>NaN</td>\n",
       "      <td>NaN</td>\n",
       "      <td>NaN</td>\n",
       "      <td>NaN</td>\n",
       "      <td>NaN</td>\n",
       "      <td>NaN</td>\n",
       "      <td>NaN</td>\n",
       "      <td>NaN</td>\n",
       "      <td>NaN</td>\n",
       "      <td>NaN</td>\n",
       "      <td>NaN</td>\n",
       "      <td>NaN</td>\n",
       "      <td>NaN</td>\n",
       "      <td>NaN</td>\n",
       "      <td>NaN</td>\n",
       "    </tr>\n",
       "  </tbody>\n",
       "</table>\n",
       "<p>1 rows × 1895 columns</p>\n",
       "</div>"
      ],
      "text/plain": [
       "                            hash_id  \\\n",
       "0  00002c14676b6a5c02d01fd82a92bd50   \n",
       "\n",
       "                                                               source_name  \\\n",
       "0  Бойник барабана для стиральной машины Candy, Vestel, Bompani, Whirlpool   \n",
       "\n",
       "   cat_id   Поставщик Возможность самовывоза Возможность доставки Гарантия  \\\n",
       "0   10501  Нет бренда                     Да                  Нет      Нет   \n",
       "\n",
       "   Страна  Вес Материал                      Размер Ширина упаковки  \\\n",
       "0  Турция  100  Пластик  Длина 18 Ширина 5 Высота 5               5   \n",
       "\n",
       "  Высота упаковки В наличии Ebsmstock Модель устройства  \\\n",
       "0               5        Да       Нет        КХ-0012297   \n",
       "\n",
       "                                                                  Название  \\\n",
       "0  Бойник барабана для стиральной машины Candy, Vestel, Bompani, Whirlpool   \n",
       "\n",
       "  Глубина упаковки Максимальная мощность Максимальная глубина погружения  ...  \\\n",
       "0               18                   NaN                             NaN  ...   \n",
       "\n",
       "  Толщина столешницы от Варочная панель Нагрев с одной стороны  \\\n",
       "0                   NaN             NaN                    NaN   \n",
       "\n",
       "  Решетка для гриля Противень для выпекания Фильтр hepa  Емкость контейнера  \\\n",
       "0               NaN                     NaN         NaN                 NaN   \n",
       "\n",
       "  Режим \"дожаривание\" Микроволны+гриль+конвекция Режим подогрева  \\\n",
       "0                 NaN                        NaN             NaN   \n",
       "\n",
       "  Регулировка температуры кофе Включение и выключение по расписанию  \\\n",
       "0                          NaN                                  NaN   \n",
       "\n",
       "  Мониторинг энергопотребления Бессрочный Версия издания  \\\n",
       "0                          NaN        NaN            NaN   \n",
       "\n",
       "  Утапливаемые ручки управления Количество в упаковке, шт. Воздушный поток  \\\n",
       "0                           NaN                        NaN             NaN   \n",
       "\n",
       "  Тип коннектора Прямой привод  \n",
       "0            NaN           NaN  \n",
       "\n",
       "[1 rows x 1895 columns]"
      ]
     },
     "execution_count": 9,
     "metadata": {},
     "output_type": "execute_result"
    }
   ],
   "source": [
    "df_lab1.head(1)"
   ]
  },
  {
   "cell_type": "code",
   "execution_count": 10,
   "metadata": {},
   "outputs": [
    {
     "name": "stdout",
     "output_type": "stream",
     "text": [
      "<class 'pandas.core.frame.DataFrame'>\n",
      "RangeIndex: 716552 entries, 0 to 716551\n",
      "Columns: 1895 entries, hash_id to Прямой привод\n",
      "dtypes: float64(1), int32(1), object(1893)\n",
      "memory usage: 10.1+ GB\n"
     ]
    }
   ],
   "source": [
    "df_lab1.info()"
   ]
  },
  {
   "cell_type": "markdown",
   "metadata": {},
   "source": [
    "Использование памяти резко возросло с 20 МБ до 10 ГБ"
   ]
  },
  {
   "cell_type": "code",
   "execution_count": 11,
   "metadata": {},
   "outputs": [
    {
     "data": {
      "text/plain": [
       "hash_id                               0\n",
       "source_name                           0\n",
       "cat_id                                0\n",
       "Поставщик                        120287\n",
       "Возможность самовывоза           388008\n",
       "                                  ...  \n",
       "Утапливаемые ручки управления    716551\n",
       "Количество в упаковке, шт.       716551\n",
       "Воздушный поток                  716551\n",
       "Тип коннектора                   716551\n",
       "Прямой привод                    716551\n",
       "Length: 1895, dtype: int64"
      ]
     },
     "execution_count": 11,
     "metadata": {},
     "output_type": "execute_result"
    }
   ],
   "source": [
    "df_lab1.isna().sum() #подсчитываем количество пропущенных значений (NaN) в каждом столбце"
   ]
  },
  {
   "cell_type": "markdown",
   "metadata": {},
   "source": [
    "# Оброботка данных"
   ]
  },
  {
   "cell_type": "markdown",
   "metadata": {},
   "source": [
    "Вероятно, многие столбцы содержат значения NaN, которые не несут полезной информации и занимают значительное место в памяти. Давайте удалим столбцы, в которых доля не-NaN значений составляет менее 20%."
   ]
  },
  {
   "cell_type": "code",
   "execution_count": 12,
   "metadata": {},
   "outputs": [],
   "source": [
    "# Вычисляем порог на основе 20% от длины DataFrame\n",
    "threshold = int(0.2 * len(df_lab1))\n",
    "\n",
    "# Отфильтровываем столбцы, в которых количество не-NaN значений больше порога\n",
    "df_lab1 = df_lab1.dropna(axis=1, thresh=threshold)\n"
   ]
  },
  {
   "cell_type": "code",
   "execution_count": 13,
   "metadata": {},
   "outputs": [
    {
     "name": "stdout",
     "output_type": "stream",
     "text": [
      "<class 'pandas.core.frame.DataFrame'>\n",
      "RangeIndex: 716552 entries, 0 to 716551\n",
      "Data columns (total 21 columns):\n",
      " #   Column                  Non-Null Count   Dtype \n",
      "---  ------                  --------------   ----- \n",
      " 0   hash_id                 716552 non-null  object\n",
      " 1   source_name             716552 non-null  object\n",
      " 2   cat_id                  716552 non-null  int32 \n",
      " 3   Поставщик               596265 non-null  object\n",
      " 4   Возможность самовывоза  328544 non-null  object\n",
      " 5   Возможность доставки    328544 non-null  object\n",
      " 6   Гарантия                328533 non-null  object\n",
      " 7   Страна                  288025 non-null  object\n",
      " 8   Вес                     320571 non-null  object\n",
      " 9   Размер                  320330 non-null  object\n",
      " 10  Ширина упаковки         319618 non-null  object\n",
      " 11  Высота упаковки         319618 non-null  object\n",
      " 12  В наличии               604931 non-null  object\n",
      " 13  Ebsmstock               298020 non-null  object\n",
      " 14  Модель устройства       320411 non-null  object\n",
      " 15  Название                320750 non-null  object\n",
      " 16  Глубина упаковки        319618 non-null  object\n",
      " 17  Штрихкод                197635 non-null  object\n",
      " 18  Цвет                    212401 non-null  object\n",
      " 19  Модель                  166239 non-null  object\n",
      " 20  Cashback                169936 non-null  object\n",
      "dtypes: int32(1), object(20)\n",
      "memory usage: 112.1+ MB\n"
     ]
    }
   ],
   "source": [
    "df_lab1.info()"
   ]
  },
  {
   "cell_type": "markdown",
   "metadata": {},
   "source": [
    "Мы удалили 1873 столбца, содержащих недостаточно информативных данных, что позволило освободить около 10 ГБ памяти."
   ]
  },
  {
   "cell_type": "code",
   "execution_count": 14,
   "metadata": {},
   "outputs": [
    {
     "data": {
      "text/html": [
       "<div>\n",
       "<style scoped>\n",
       "    .dataframe tbody tr th:only-of-type {\n",
       "        vertical-align: middle;\n",
       "    }\n",
       "\n",
       "    .dataframe tbody tr th {\n",
       "        vertical-align: top;\n",
       "    }\n",
       "\n",
       "    .dataframe thead th {\n",
       "        text-align: right;\n",
       "    }\n",
       "</style>\n",
       "<table border=\"1\" class=\"dataframe\">\n",
       "  <thead>\n",
       "    <tr style=\"text-align: right;\">\n",
       "      <th></th>\n",
       "      <th>hash_id</th>\n",
       "      <th>source_name</th>\n",
       "      <th>cat_id</th>\n",
       "      <th>Поставщик</th>\n",
       "      <th>Возможность самовывоза</th>\n",
       "      <th>Возможность доставки</th>\n",
       "      <th>Гарантия</th>\n",
       "      <th>Страна</th>\n",
       "      <th>Вес</th>\n",
       "      <th>Размер</th>\n",
       "      <th>Ширина упаковки</th>\n",
       "      <th>Высота упаковки</th>\n",
       "      <th>В наличии</th>\n",
       "      <th>Ebsmstock</th>\n",
       "      <th>Модель устройства</th>\n",
       "      <th>Название</th>\n",
       "      <th>Глубина упаковки</th>\n",
       "      <th>Штрихкод</th>\n",
       "      <th>Цвет</th>\n",
       "      <th>Модель</th>\n",
       "      <th>Cashback</th>\n",
       "    </tr>\n",
       "  </thead>\n",
       "  <tbody>\n",
       "    <tr>\n",
       "      <th>0</th>\n",
       "      <td>00002c14676b6a5c02d01fd82a92bd50</td>\n",
       "      <td>Бойник барабана для стиральной машины Candy, Vestel, Bompani, Whirlpool</td>\n",
       "      <td>10501</td>\n",
       "      <td>Нет бренда</td>\n",
       "      <td>Да</td>\n",
       "      <td>Нет</td>\n",
       "      <td>Нет</td>\n",
       "      <td>Турция</td>\n",
       "      <td>100</td>\n",
       "      <td>Длина 18 Ширина 5 Высота 5</td>\n",
       "      <td>5</td>\n",
       "      <td>5</td>\n",
       "      <td>Да</td>\n",
       "      <td>Нет</td>\n",
       "      <td>КХ-0012297</td>\n",
       "      <td>Бойник барабана для стиральной машины Candy, Vestel, Bompani, Whirlpool</td>\n",
       "      <td>18</td>\n",
       "      <td>NaN</td>\n",
       "      <td>NaN</td>\n",
       "      <td>NaN</td>\n",
       "      <td>NaN</td>\n",
       "    </tr>\n",
       "  </tbody>\n",
       "</table>\n",
       "</div>"
      ],
      "text/plain": [
       "                            hash_id  \\\n",
       "0  00002c14676b6a5c02d01fd82a92bd50   \n",
       "\n",
       "                                                               source_name  \\\n",
       "0  Бойник барабана для стиральной машины Candy, Vestel, Bompani, Whirlpool   \n",
       "\n",
       "   cat_id   Поставщик Возможность самовывоза Возможность доставки Гарантия  \\\n",
       "0   10501  Нет бренда                     Да                  Нет      Нет   \n",
       "\n",
       "   Страна  Вес                      Размер Ширина упаковки Высота упаковки  \\\n",
       "0  Турция  100  Длина 18 Ширина 5 Высота 5               5               5   \n",
       "\n",
       "  В наличии Ebsmstock Модель устройства  \\\n",
       "0        Да       Нет        КХ-0012297   \n",
       "\n",
       "                                                                  Название  \\\n",
       "0  Бойник барабана для стиральной машины Candy, Vestel, Bompani, Whirlpool   \n",
       "\n",
       "  Глубина упаковки Штрихкод Цвет Модель Cashback  \n",
       "0               18      NaN  NaN    NaN      NaN  "
      ]
     },
     "execution_count": 14,
     "metadata": {},
     "output_type": "execute_result"
    }
   ],
   "source": [
    "df_lab1.head(1)"
   ]
  },
  {
   "cell_type": "markdown",
   "metadata": {},
   "source": [
    "Мы можем удалить колонку название, так как она дублирует информацию из колонки source_name. Также можно удалить колонки hash_id и штрихкод."
   ]
  },
  {
   "cell_type": "code",
   "execution_count": 15,
   "metadata": {},
   "outputs": [],
   "source": [
    "df_lab1 = df_lab1.drop(['hash_id', 'Название', 'Штрихкод'], axis=1)"
   ]
  },
  {
   "cell_type": "markdown",
   "metadata": {},
   "source": [
    "## Что делать с размером?"
   ]
  },
  {
   "cell_type": "markdown",
   "metadata": {},
   "source": [
    "    Вариант 1: Агрегирование размерных характеристик и заполнение пропущенных значений на основе других атрибутов.\n",
    "\n",
    "Предложение:\n",
    "\n",
    "Для оптимизации хранения данных и повышения производительности запросов можем использовать комбинированный подход к определению габаритных размеров товара.\n",
    "\n",
    "Плюсы:\n",
    "\n",
    "Экономия памяти: Сведение нескольких столбцов с размерными характеристиками к одному числовому значению позволяет снизить объем занимаемой памяти.\n",
    "\n",
    "Оптимизация запросов: Уменьшение количества столбцов в таблице может привести к более быстрому выполнению запросов, особенно при операциях фильтрации и агрегации.\n",
    "\n",
    "Минусы:\n",
    "\n",
    "Потеря детализации: Агрегирование размерных характеристик может привести к потере информации о точных значениях ширины, высоты и длины, что может быть критично для некоторых специфических свойств товара или аналитических задач.\n",
    "\n",
    "Влияние на точность: Заполнение пропущенных значений на основе агрегированных данных и других атрибутов может внести погрешность в данные, особенно если взаимосвязи между атрибутами не являются линейными или стабильными.\n",
    "\n",
    "    Вариант 2: Извлечение и прямое заполнение размерных характеристик.\n",
    "\n",
    "Предложение:\n",
    "\n",
    "В качестве альтернативы можем извлечь значения ширины, высоты и глубины упаковки непосредственно из столбца 'Размер' и заполнить соответствующие столбцы полученными значениями без их дальнейшего агрегирования.\n",
    "\n",
    "Плюсы:\n",
    "\n",
    "Сохранение информации: Данный подход позволяет сохранить максимально возможный объем информации о габаритных размерах товара, что обеспечивает более полную и точную картину.\n",
    "\n",
    "Минусы:\n",
    "\n",
    "Неоптимальное использование памяти: Хранение отдельных столбцов для каждой размерной характеристики может потребовать большего объема памяти по сравнению с агрегированным подходом.\n",
    "\n",
    "Потенциально более низкая производительность запросов: Наличие большего количества столбцов может незначительно повлиять на производительность запросов, особенно при работе с большими объемами данных."
   ]
  },
  {
   "cell_type": "markdown",
   "metadata": {},
   "source": [
    "В целях обеспечения максимального сохранения информации о габаритных размерах товара, мы отдаем предпочтение второму подходу, который предполагает извлечение и прямое заполнение соответствующих столбцов ('Ширина упаковки', 'Высота упаковки', 'Глубина упаковки') без их агрегирования."
   ]
  },
  {
   "cell_type": "code",
   "execution_count": 16,
   "metadata": {},
   "outputs": [],
   "source": [
    "num_col = ['Ширина упаковки', 'Высота упаковки','Глубина упаковки'] # Приведем тип калонок в числовую\n",
    "\n",
    "for i in num_col:\n",
    "    df_lab1[i] = pd.to_numeric(df_lab1[i], errors='coerce') "
   ]
  },
  {
   "cell_type": "code",
   "execution_count": 17,
   "metadata": {},
   "outputs": [],
   "source": [
    "import re"
   ]
  },
  {
   "cell_type": "code",
   "execution_count": 18,
   "metadata": {},
   "outputs": [],
   "source": [
    "def extract_dimensions(row):\n",
    "    size_str = row['Размер']\n",
    "    if isinstance(size_str, str):\n",
    "        width_match = re.search(r'Ширина (\\d+)', size_str) # Ищем в тексте size_str слово \"Ширина\" с последующим числом и сохраняет результат\n",
    "        height_match = re.search(r'Высота (\\d+)', size_str)\n",
    "        length_match = re.search(r'Длина (\\d+)', size_str) \n",
    "\n",
    "        if pd.isna(row['Ширина упаковки']) and width_match:\n",
    "            row['Ширина упаковки'] = int(width_match.group(1))\n",
    "        if pd.isna(row['Высота упаковки']) and height_match:\n",
    "            row['Высота упаковки'] = int(height_match.group(1))\n",
    "        if pd.isna(row['Глубина упаковки']) and length_match:\n",
    "            row['Глубина упаковки'] = int(length_match.group(1))\n",
    "    return row"
   ]
  },
  {
   "cell_type": "code",
   "execution_count": 19,
   "metadata": {},
   "outputs": [],
   "source": [
    "# Применяем функцию к каждой строке\n",
    "df_lab2 = df_lab1.apply(extract_dimensions, axis=1)"
   ]
  },
  {
   "cell_type": "code",
   "execution_count": 20,
   "metadata": {},
   "outputs": [],
   "source": [
    "df_lab2.drop('Размер', axis=1, inplace=True) # Удаляем столбец 'Размер'"
   ]
  },
  {
   "cell_type": "code",
   "execution_count": 21,
   "metadata": {},
   "outputs": [
    {
     "name": "stdout",
     "output_type": "stream",
     "text": [
      "<class 'pandas.core.frame.DataFrame'>\n",
      "RangeIndex: 716552 entries, 0 to 716551\n",
      "Data columns (total 17 columns):\n",
      " #   Column                  Non-Null Count   Dtype  \n",
      "---  ------                  --------------   -----  \n",
      " 0   source_name             716552 non-null  object \n",
      " 1   cat_id                  716552 non-null  int64  \n",
      " 2   Поставщик               596265 non-null  object \n",
      " 3   Возможность самовывоза  328544 non-null  object \n",
      " 4   Возможность доставки    328544 non-null  object \n",
      " 5   Гарантия                328533 non-null  object \n",
      " 6   Страна                  288025 non-null  object \n",
      " 7   Вес                     320571 non-null  object \n",
      " 8   Ширина упаковки         319618 non-null  float64\n",
      " 9   Высота упаковки         319618 non-null  float64\n",
      " 10  В наличии               604931 non-null  object \n",
      " 11  Ebsmstock               298020 non-null  object \n",
      " 12  Модель устройства       320411 non-null  object \n",
      " 13  Глубина упаковки        319618 non-null  float64\n",
      " 14  Цвет                    212401 non-null  object \n",
      " 15  Модель                  166239 non-null  object \n",
      " 16  Cashback                169936 non-null  object \n",
      "dtypes: float64(3), int64(1), object(13)\n",
      "memory usage: 92.9+ MB\n"
     ]
    }
   ],
   "source": [
    "df_lab2.info()"
   ]
  },
  {
   "cell_type": "markdown",
   "metadata": {},
   "source": [
    "## Какова ситуация со столбцами 'Модель устройства' и 'Модель'?"
   ]
  },
  {
   "cell_type": "code",
   "execution_count": 22,
   "metadata": {},
   "outputs": [
    {
     "data": {
      "text/plain": [
       "(21, 17)"
      ]
     },
     "execution_count": 22,
     "metadata": {},
     "output_type": "execute_result"
    }
   ],
   "source": [
    "df_m = df_lab2[df_lab1['Модель устройства'] == df_lab1['Модель']] # Проводим проверку на наличие схожих данных.\n",
    "df_m.shape"
   ]
  },
  {
   "cell_type": "markdown",
   "metadata": {},
   "source": [
    "Учитывая, что колонки 'Модель устройства' и 'Модель' содержат схожую информацию, но имеется пропущенные значения в одной из них, предлагается создать новую колонку 'Model'. Эта колонка будет содержать объединенную информацию, заполняя пропуски в одной колонке данными из другой."
   ]
  },
  {
   "cell_type": "code",
   "execution_count": 23,
   "metadata": {},
   "outputs": [],
   "source": [
    "df_lab2['Model'] = np.where(df_lab2['Модель устройства'].notna(), df_lab2['Модель устройства'], df_lab2['Модель'])"
   ]
  },
  {
   "cell_type": "code",
   "execution_count": 24,
   "metadata": {},
   "outputs": [],
   "source": [
    "df_lab2 = df_lab2.drop(['Модель устройства','Модель'], axis=1) # Удаляем столбцы"
   ]
  },
  {
   "cell_type": "code",
   "execution_count": 25,
   "metadata": {},
   "outputs": [
    {
     "name": "stdout",
     "output_type": "stream",
     "text": [
      "<class 'pandas.core.frame.DataFrame'>\n",
      "RangeIndex: 716552 entries, 0 to 716551\n",
      "Data columns (total 16 columns):\n",
      " #   Column                  Non-Null Count   Dtype  \n",
      "---  ------                  --------------   -----  \n",
      " 0   source_name             716552 non-null  object \n",
      " 1   cat_id                  716552 non-null  int64  \n",
      " 2   Поставщик               596265 non-null  object \n",
      " 3   Возможность самовывоза  328544 non-null  object \n",
      " 4   Возможность доставки    328544 non-null  object \n",
      " 5   Гарантия                328533 non-null  object \n",
      " 6   Страна                  288025 non-null  object \n",
      " 7   Вес                     320571 non-null  object \n",
      " 8   Ширина упаковки         319618 non-null  float64\n",
      " 9   Высота упаковки         319618 non-null  float64\n",
      " 10  В наличии               604931 non-null  object \n",
      " 11  Ebsmstock               298020 non-null  object \n",
      " 12  Глубина упаковки        319618 non-null  float64\n",
      " 13  Цвет                    212401 non-null  object \n",
      " 14  Cashback                169936 non-null  object \n",
      " 15  Model                   486427 non-null  object \n",
      "dtypes: float64(3), int64(1), object(12)\n",
      "memory usage: 87.5+ MB\n"
     ]
    }
   ],
   "source": [
    "df_lab2.info()"
   ]
  },
  {
   "cell_type": "markdown",
   "metadata": {},
   "source": [
    "Для большего удобства и оптимизации рабочего процесса мы стандартизируем названия столбцов на английском языке."
   ]
  },
  {
   "cell_type": "code",
   "execution_count": 26,
   "metadata": {},
   "outputs": [],
   "source": [
    "df_lab2.rename(columns={\n",
    "    'Поставщик': 'Supplier',\n",
    "    'Возможность самовывоза': 'Pickup',\n",
    "    'Возможность доставки': 'Delivery',\n",
    "    'Гарантия': 'Warranty',\n",
    "    'Страна': 'Country',\n",
    "    'Вес': 'Weight',\n",
    "    'Ширина упаковки': 'Width',\n",
    "    'Высота упаковки': 'Height',\n",
    "    'Глубина упаковки': 'Length',\n",
    "    'В наличии': 'Instock',\n",
    "    'Цвет': 'Color',\n",
    "    'source_name': 'Name',\n",
    "    'cat_id': 'Cat_id'\n",
    "}, inplace=True)"
   ]
  },
  {
   "cell_type": "code",
   "execution_count": 27,
   "metadata": {},
   "outputs": [
    {
     "data": {
      "text/html": [
       "<div>\n",
       "<style scoped>\n",
       "    .dataframe tbody tr th:only-of-type {\n",
       "        vertical-align: middle;\n",
       "    }\n",
       "\n",
       "    .dataframe tbody tr th {\n",
       "        vertical-align: top;\n",
       "    }\n",
       "\n",
       "    .dataframe thead th {\n",
       "        text-align: right;\n",
       "    }\n",
       "</style>\n",
       "<table border=\"1\" class=\"dataframe\">\n",
       "  <thead>\n",
       "    <tr style=\"text-align: right;\">\n",
       "      <th></th>\n",
       "      <th>Name</th>\n",
       "      <th>Cat_id</th>\n",
       "      <th>Supplier</th>\n",
       "      <th>Pickup</th>\n",
       "      <th>Delivery</th>\n",
       "      <th>Warranty</th>\n",
       "      <th>Country</th>\n",
       "      <th>Weight</th>\n",
       "      <th>Width</th>\n",
       "      <th>Height</th>\n",
       "      <th>Instock</th>\n",
       "      <th>Ebsmstock</th>\n",
       "      <th>Length</th>\n",
       "      <th>Color</th>\n",
       "      <th>Cashback</th>\n",
       "      <th>Model</th>\n",
       "    </tr>\n",
       "  </thead>\n",
       "  <tbody>\n",
       "    <tr>\n",
       "      <th>0</th>\n",
       "      <td>Бойник барабана для стиральной машины Candy, Vestel, Bompani, Whirlpool</td>\n",
       "      <td>10501</td>\n",
       "      <td>Нет бренда</td>\n",
       "      <td>Да</td>\n",
       "      <td>Нет</td>\n",
       "      <td>Нет</td>\n",
       "      <td>Турция</td>\n",
       "      <td>100</td>\n",
       "      <td>5.0</td>\n",
       "      <td>5.0</td>\n",
       "      <td>Да</td>\n",
       "      <td>Нет</td>\n",
       "      <td>18.0</td>\n",
       "      <td>NaN</td>\n",
       "      <td>NaN</td>\n",
       "      <td>КХ-0012297</td>\n",
       "    </tr>\n",
       "  </tbody>\n",
       "</table>\n",
       "</div>"
      ],
      "text/plain": [
       "                                                                      Name  \\\n",
       "0  Бойник барабана для стиральной машины Candy, Vestel, Bompani, Whirlpool   \n",
       "\n",
       "   Cat_id    Supplier Pickup Delivery Warranty Country Weight  Width  Height  \\\n",
       "0   10501  Нет бренда     Да      Нет      Нет  Турция    100    5.0     5.0   \n",
       "\n",
       "  Instock Ebsmstock  Length Color Cashback       Model  \n",
       "0      Да       Нет    18.0   NaN      NaN  КХ-0012297  "
      ]
     },
     "execution_count": 27,
     "metadata": {},
     "output_type": "execute_result"
    }
   ],
   "source": [
    "df_lab2.head(1)"
   ]
  },
  {
   "cell_type": "markdown",
   "metadata": {},
   "source": [
    "Аналогично, столбец \"Warranty\" также требует проверки корректности содержащейся в нем информации для обеспечения его пригодности для дальнейшей работы."
   ]
  },
  {
   "cell_type": "code",
   "execution_count": 28,
   "metadata": {},
   "outputs": [
    {
     "data": {
      "text/plain": [
       "array(['Нет', 'Да', nan, '2', '1', '3', '5', '6', '11', '12', '1,5 года',\n",
       "       '2018', '7', '25', '2021', '9', '2016', '1980', '8', '2023',\n",
       "       '1812', '1976', '2017-2021', '10', '36', '2019'], dtype=object)"
      ]
     },
     "execution_count": 28,
     "metadata": {},
     "output_type": "execute_result"
    }
   ],
   "source": [
    "df_lab2['Warranty'].unique()"
   ]
  },
  {
   "cell_type": "markdown",
   "metadata": {},
   "source": [
    "Создадим функцию clean_warranty, которая предназначена для очистки и стандартизации данных, связанных с гарантией товара."
   ]
  },
  {
   "cell_type": "code",
   "execution_count": 29,
   "metadata": {},
   "outputs": [],
   "source": [
    "def clean_warranty(value):\n",
    "    try:\n",
    "        if isinstance(value, str):\n",
    "            if 'год' in value:\n",
    "                return float(value.split()[0].replace(',', '.'))  # 1,5 года -> 1.5\n",
    "            elif '-' in value:\n",
    "                years = value.split('-')\n",
    "                return (int(years[0]) + int(years[1])) / 2  # 2017-2021 -> 2019\n",
    "            elif value == 'Нет':\n",
    "                return 0\n",
    "            elif  value == 'Да':\n",
    "                return 1\n",
    "            else:\n",
    "                return float(value)\n",
    "        return float(value)\n",
    "    except (ValueError, TypeError):\n",
    "        return np.nan\n",
    "\n"
   ]
  },
  {
   "cell_type": "code",
   "execution_count": 30,
   "metadata": {},
   "outputs": [],
   "source": [
    "df_lab2['Warranty'] = df_lab2['Warranty'].apply(clean_warranty) # Применяем функцию"
   ]
  },
  {
   "cell_type": "code",
   "execution_count": 31,
   "metadata": {},
   "outputs": [
    {
     "data": {
      "text/html": [
       "<div>\n",
       "<style scoped>\n",
       "    .dataframe tbody tr th:only-of-type {\n",
       "        vertical-align: middle;\n",
       "    }\n",
       "\n",
       "    .dataframe tbody tr th {\n",
       "        vertical-align: top;\n",
       "    }\n",
       "\n",
       "    .dataframe thead th {\n",
       "        text-align: right;\n",
       "    }\n",
       "</style>\n",
       "<table border=\"1\" class=\"dataframe\">\n",
       "  <thead>\n",
       "    <tr style=\"text-align: right;\">\n",
       "      <th></th>\n",
       "      <th>Name</th>\n",
       "      <th>Warranty</th>\n",
       "    </tr>\n",
       "  </thead>\n",
       "  <tbody>\n",
       "    <tr>\n",
       "      <th>85775</th>\n",
       "      <td>Стилус Zar.market для iPad от 2018 года с USB Type-C зарядкой, с изменением толщины линии</td>\n",
       "      <td>2018.0</td>\n",
       "    </tr>\n",
       "    <tr>\n",
       "      <th>233126</th>\n",
       "      <td>Пульт ДУ LG Magic Remote MR21GA с кнопкой IVI для Smart телевизоров LG 2021 года</td>\n",
       "      <td>2021.0</td>\n",
       "    </tr>\n",
       "    <tr>\n",
       "      <th>332592</th>\n",
       "      <td>Пульт Samsung BN59-01357H для Smart TV 2021 года с солнечной батареей и Type-C зарядкой, к</td>\n",
       "      <td>2021.0</td>\n",
       "    </tr>\n",
       "    <tr>\n",
       "      <th>377575</th>\n",
       "      <td>Аккумулятор для ноутбука Dell XPS 15-9550 RRCGW 2016 года</td>\n",
       "      <td>2016.0</td>\n",
       "    </tr>\n",
       "    <tr>\n",
       "      <th>436691</th>\n",
       "      <td>ВЫСОЦКИЙ, ВЛАДИМИР: Концерт В ДК Им. Парижской Коммуны 27 Марта 1980 Года (cd)</td>\n",
       "      <td>1980.0</td>\n",
       "    </tr>\n",
       "  </tbody>\n",
       "</table>\n",
       "</div>"
      ],
      "text/plain": [
       "                                                                                              Name  \\\n",
       "85775    Стилус Zar.market для iPad от 2018 года с USB Type-C зарядкой, с изменением толщины линии   \n",
       "233126            Пульт ДУ LG Magic Remote MR21GA с кнопкой IVI для Smart телевизоров LG 2021 года   \n",
       "332592  Пульт Samsung BN59-01357H для Smart TV 2021 года с солнечной батареей и Type-C зарядкой, к   \n",
       "377575                                   Аккумулятор для ноутбука Dell XPS 15-9550 RRCGW 2016 года   \n",
       "436691              ВЫСОЦКИЙ, ВЛАДИМИР: Концерт В ДК Им. Парижской Коммуны 27 Марта 1980 Года (cd)   \n",
       "\n",
       "        Warranty  \n",
       "85775     2018.0  \n",
       "233126    2021.0  \n",
       "332592    2021.0  \n",
       "377575    2016.0  \n",
       "436691    1980.0  "
      ]
     },
     "execution_count": 31,
     "metadata": {},
     "output_type": "execute_result"
    }
   ],
   "source": [
    "df_lab2[df_lab2['Warranty'] >= 1000][['Name','Warranty']].head(5)"
   ]
  },
  {
   "cell_type": "code",
   "execution_count": 32,
   "metadata": {},
   "outputs": [
    {
     "data": {
      "text/html": [
       "<div>\n",
       "<style scoped>\n",
       "    .dataframe tbody tr th:only-of-type {\n",
       "        vertical-align: middle;\n",
       "    }\n",
       "\n",
       "    .dataframe tbody tr th {\n",
       "        vertical-align: top;\n",
       "    }\n",
       "\n",
       "    .dataframe thead th {\n",
       "        text-align: right;\n",
       "    }\n",
       "</style>\n",
       "<table border=\"1\" class=\"dataframe\">\n",
       "  <thead>\n",
       "    <tr style=\"text-align: right;\">\n",
       "      <th></th>\n",
       "      <th>Name</th>\n",
       "      <th>Warranty</th>\n",
       "    </tr>\n",
       "  </thead>\n",
       "  <tbody>\n",
       "    <tr>\n",
       "      <th>3849</th>\n",
       "      <td>Встраиваемая микроволновая печь KRONA ESSEN 60 WH DOTS</td>\n",
       "      <td>5.0</td>\n",
       "    </tr>\n",
       "    <tr>\n",
       "      <th>4802</th>\n",
       "      <td>Мини-печь Simfer M3524 Classic Red</td>\n",
       "      <td>5.0</td>\n",
       "    </tr>\n",
       "    <tr>\n",
       "      <th>8404</th>\n",
       "      <td>Программное обеспечение 1С:КП Строительство на 3 месяца</td>\n",
       "      <td>6.0</td>\n",
       "    </tr>\n",
       "    <tr>\n",
       "      <th>9063</th>\n",
       "      <td>Вентилятор напольный Sturm! SF4003, 40 Вт, 3 режима, вращение корпуса, регулировка наклона</td>\n",
       "      <td>11.0</td>\n",
       "    </tr>\n",
       "    <tr>\n",
       "      <th>10021</th>\n",
       "      <td>Программное обеспечение 1С:КП Медицина на 12 месяцев</td>\n",
       "      <td>12.0</td>\n",
       "    </tr>\n",
       "  </tbody>\n",
       "</table>\n",
       "</div>"
      ],
      "text/plain": [
       "                                                                                             Name  \\\n",
       "3849                                       Встраиваемая микроволновая печь KRONA ESSEN 60 WH DOTS   \n",
       "4802                                                           Мини-печь Simfer M3524 Classic Red   \n",
       "8404                                      Программное обеспечение 1С:КП Строительство на 3 месяца   \n",
       "9063   Вентилятор напольный Sturm! SF4003, 40 Вт, 3 режима, вращение корпуса, регулировка наклона   \n",
       "10021                                        Программное обеспечение 1С:КП Медицина на 12 месяцев   \n",
       "\n",
       "       Warranty  \n",
       "3849        5.0  \n",
       "4802        5.0  \n",
       "8404        6.0  \n",
       "9063       11.0  \n",
       "10021      12.0  "
      ]
     },
     "execution_count": 32,
     "metadata": {},
     "output_type": "execute_result"
    }
   ],
   "source": [
    "df_lab2[df_lab2['Warranty'].between(5, 36)][['Name','Warranty']].head(5)"
   ]
  },
  {
   "cell_type": "markdown",
   "metadata": {},
   "source": [
    "Значения, превышающие 1000, обозначают год выпуска продукции, в то время как значения от 5 до 36 указывают на гарантийный срок в месяцах. Приведем все сроки гарантии к единому формату в годах, а значения, соответствующие году выпуска, заменить на нулевые."
   ]
  },
  {
   "cell_type": "code",
   "execution_count": 33,
   "metadata": {},
   "outputs": [
    {
     "data": {
      "text/plain": [
       "array([0.        , 1.        ,        nan, 2.        , 3.        ,\n",
       "       5.        , 0.5       , 0.91666667, 1.5       , 0.58333333,\n",
       "       2.08333333, 0.75      , 0.66666667, 0.83333333])"
      ]
     },
     "execution_count": 33,
     "metadata": {},
     "output_type": "execute_result"
    }
   ],
   "source": [
    "# Заменяем годы и значения больше 1000 на NaN\n",
    "df_lab2.loc[(df_lab2['Warranty'] > 1000) & (df_lab2['Warranty'] < 2024), 'Warranty'] = np.nan\n",
    "\n",
    "# Заменяем месяцы на годы\n",
    "df_lab2.loc[(df_lab2['Warranty'] > 5) & (df_lab2['Warranty'] < 40), 'Warranty'] = df_lab2['Warranty'] / 12\n",
    "\n",
    "df_lab2['Warranty'].unique()"
   ]
  },
  {
   "cell_type": "code",
   "execution_count": 34,
   "metadata": {},
   "outputs": [
    {
     "data": {
      "text/plain": [
       "array(['Да', nan], dtype=object)"
      ]
     },
     "execution_count": 34,
     "metadata": {},
     "output_type": "execute_result"
    }
   ],
   "source": [
    "df_lab2['Instock'].unique() # Проверим уникальные значения в столбце."
   ]
  },
  {
   "cell_type": "code",
   "execution_count": 35,
   "metadata": {},
   "outputs": [
    {
     "data": {
      "text/plain": [
       "array(['Нет', nan], dtype=object)"
      ]
     },
     "execution_count": 35,
     "metadata": {},
     "output_type": "execute_result"
    }
   ],
   "source": [
    "df_lab2['Ebsmstock'].unique()"
   ]
  },
  {
   "cell_type": "code",
   "execution_count": 36,
   "metadata": {},
   "outputs": [],
   "source": [
    "df_lab2 = df_lab2.drop(['Ebsmstock','Instock'],axis=1) # Удалим столбцы, так как в нех нет информативных значений."
   ]
  },
  {
   "cell_type": "code",
   "execution_count": 37,
   "metadata": {},
   "outputs": [
    {
     "data": {
      "text/html": [
       "<div>\n",
       "<style scoped>\n",
       "    .dataframe tbody tr th:only-of-type {\n",
       "        vertical-align: middle;\n",
       "    }\n",
       "\n",
       "    .dataframe tbody tr th {\n",
       "        vertical-align: top;\n",
       "    }\n",
       "\n",
       "    .dataframe thead th {\n",
       "        text-align: right;\n",
       "    }\n",
       "</style>\n",
       "<table border=\"1\" class=\"dataframe\">\n",
       "  <thead>\n",
       "    <tr style=\"text-align: right;\">\n",
       "      <th></th>\n",
       "      <th>Name</th>\n",
       "      <th>Cat_id</th>\n",
       "      <th>Supplier</th>\n",
       "      <th>Pickup</th>\n",
       "      <th>Delivery</th>\n",
       "      <th>Warranty</th>\n",
       "      <th>Country</th>\n",
       "      <th>Weight</th>\n",
       "      <th>Width</th>\n",
       "      <th>Height</th>\n",
       "      <th>Length</th>\n",
       "      <th>Color</th>\n",
       "      <th>Cashback</th>\n",
       "      <th>Model</th>\n",
       "    </tr>\n",
       "  </thead>\n",
       "  <tbody>\n",
       "    <tr>\n",
       "      <th>0</th>\n",
       "      <td>Бойник барабана для стиральной машины Candy, Vestel, Bompani, Whirlpool</td>\n",
       "      <td>10501</td>\n",
       "      <td>Нет бренда</td>\n",
       "      <td>Да</td>\n",
       "      <td>Нет</td>\n",
       "      <td>0.0</td>\n",
       "      <td>Турция</td>\n",
       "      <td>100</td>\n",
       "      <td>5.0</td>\n",
       "      <td>5.0</td>\n",
       "      <td>18.0</td>\n",
       "      <td>NaN</td>\n",
       "      <td>NaN</td>\n",
       "      <td>КХ-0012297</td>\n",
       "    </tr>\n",
       "  </tbody>\n",
       "</table>\n",
       "</div>"
      ],
      "text/plain": [
       "                                                                      Name  \\\n",
       "0  Бойник барабана для стиральной машины Candy, Vestel, Bompani, Whirlpool   \n",
       "\n",
       "   Cat_id    Supplier Pickup Delivery  Warranty Country Weight  Width  Height  \\\n",
       "0   10501  Нет бренда     Да      Нет       0.0  Турция    100    5.0     5.0   \n",
       "\n",
       "   Length Color Cashback       Model  \n",
       "0    18.0   NaN      NaN  КХ-0012297  "
      ]
     },
     "execution_count": 37,
     "metadata": {},
     "output_type": "execute_result"
    }
   ],
   "source": [
    "df_lab2.head(1)"
   ]
  },
  {
   "cell_type": "code",
   "execution_count": 38,
   "metadata": {},
   "outputs": [],
   "source": [
    "# Используем np.select для обработки NaN значений\n",
    "colss = ['Pickup', 'Delivery']\n",
    "for i in colss:\n",
    "    conditions = [\n",
    "        df_lab2[i] == 'Да',\n",
    "        df_lab2[i] == 'Нет',\n",
    "        df_lab2[i].isna()  # Проверяем на NaN\n",
    "    ]\n",
    "    choices = [1, 0, np.nan]  # Значения для каждого условия\n",
    "\n",
    "    df_lab2[i] = np.select(conditions, choices, default=df_lab2[i])\n"
   ]
  },
  {
   "cell_type": "markdown",
   "metadata": {},
   "source": [
    "# Заполним пропуски в колонке Color"
   ]
  },
  {
   "cell_type": "markdown",
   "metadata": {},
   "source": [
    "Для заполнения колонки 'Color' нам нужно извлечь информацию о цвете из колонки 'Name'. Можно использовать LLM-модель для более точного извлечения, но также возможно обойтись и без нее. Сначала необходимо получить список уникальных цветов из колонки 'Color'. Затем, используя этот список, нужно найти соответствующие значения в колонке 'Name' и на их основе заполнить колонку 'Color'."
   ]
  },
  {
   "cell_type": "code",
   "execution_count": 39,
   "metadata": {},
   "outputs": [],
   "source": [
    "# Приведем все в нижний регистр для корректности\n",
    "df_lab2['Color'] = df_lab2['Color'].str.lower() \n",
    "df_lab2['Name'] = df_lab2['Name'].str.lower()"
   ]
  },
  {
   "cell_type": "code",
   "execution_count": 40,
   "metadata": {},
   "outputs": [],
   "source": [
    "# 1. Получаем список уникальных цветов из колонки 'Color'\n",
    "unique_colors = df_lab2['Color'].dropna().unique().tolist() # Удаляем NaN и получаем список"
   ]
  },
  {
   "cell_type": "code",
   "execution_count": 41,
   "metadata": {},
   "outputs": [
    {
     "name": "stdout",
     "output_type": "stream",
     "text": [
      "--\n",
      "5\n"
     ]
    }
   ],
   "source": [
    "for i in unique_colors:\n",
    "    if len(i) < 3:\n",
    "        print(i)"
   ]
  },
  {
   "cell_type": "code",
   "execution_count": 42,
   "metadata": {},
   "outputs": [],
   "source": [
    "unique_colors.remove('5')\n",
    "unique_colors.remove('--')"
   ]
  },
  {
   "cell_type": "code",
   "execution_count": 43,
   "metadata": {},
   "outputs": [],
   "source": [
    "# 2. Создаем словарь для сопоставления цветов\n",
    "color_dict = {color: color for color in unique_colors}"
   ]
  },
  {
   "cell_type": "code",
   "execution_count": 44,
   "metadata": {},
   "outputs": [],
   "source": [
    "# 3. Заполняем колонку 'Color' на основе значений из колонки 'Name'\n",
    "def extract_color(name):\n",
    "    for color_lower, color in color_dict.items():\n",
    "        if color_lower in name:\n",
    "            return color\n",
    "    return None # возвращаем None если цвет не найден\n",
    "\n",
    "df_lab2['Color2'] = df_lab2['Name'].apply(extract_color)\n"
   ]
  },
  {
   "cell_type": "code",
   "execution_count": 45,
   "metadata": {},
   "outputs": [],
   "source": [
    "df_lab2['Color'] = df_lab2['Color2'].combine_first(df_lab2['Color'])  # Теперь объединим эти данные в один столбец\n",
    "df_lab2.drop(columns='Color2', inplace=True)"
   ]
  },
  {
   "cell_type": "code",
   "execution_count": 46,
   "metadata": {},
   "outputs": [
    {
     "name": "stdout",
     "output_type": "stream",
     "text": [
      "<class 'pandas.core.frame.DataFrame'>\n",
      "RangeIndex: 716552 entries, 0 to 716551\n",
      "Data columns (total 14 columns):\n",
      " #   Column    Non-Null Count   Dtype  \n",
      "---  ------    --------------   -----  \n",
      " 0   Name      716552 non-null  object \n",
      " 1   Cat_id    716552 non-null  int64  \n",
      " 2   Supplier  596265 non-null  object \n",
      " 3   Pickup    328544 non-null  object \n",
      " 4   Delivery  328544 non-null  object \n",
      " 5   Warranty  328517 non-null  float64\n",
      " 6   Country   288025 non-null  object \n",
      " 7   Weight    320571 non-null  object \n",
      " 8   Width     319618 non-null  float64\n",
      " 9   Height    319618 non-null  float64\n",
      " 10  Length    319618 non-null  float64\n",
      " 11  Color     344851 non-null  object \n",
      " 12  Cashback  169936 non-null  object \n",
      " 13  Model     486427 non-null  object \n",
      "dtypes: float64(4), int64(1), object(9)\n",
      "memory usage: 76.5+ MB\n"
     ]
    }
   ],
   "source": [
    "df_lab2.info()"
   ]
  },
  {
   "cell_type": "markdown",
   "metadata": {},
   "source": [
    "Мы заполнили более ста тысяч строк, в результате чего количество записей увеличилось с 212 401 до 344851"
   ]
  },
  {
   "cell_type": "markdown",
   "metadata": {},
   "source": [
    "# Теперь аналогичным образом заполним колонку 'Supplier'"
   ]
  },
  {
   "cell_type": "code",
   "execution_count": 47,
   "metadata": {},
   "outputs": [],
   "source": [
    "df_lab2['Supplier'] = df_lab2['Supplier'].str.lower()"
   ]
  },
  {
   "cell_type": "code",
   "execution_count": 48,
   "metadata": {},
   "outputs": [],
   "source": [
    "# 1. Получаем список уникальных цветов из колонки 'Color'\n",
    "unique_supp = df_lab2['Supplier'].dropna().unique().tolist() # Удаляем NaN и получаем список"
   ]
  },
  {
   "cell_type": "code",
   "execution_count": 49,
   "metadata": {},
   "outputs": [],
   "source": [
    "# 2. Создаем словарь для сопоставления цветов\n",
    "supp_dict = {supp: supp for supp in unique_supp}"
   ]
  },
  {
   "cell_type": "code",
   "execution_count": 50,
   "metadata": {},
   "outputs": [],
   "source": [
    "# 3. Заполняем колонку 'Supplier' на основе значений из колонки 'Name'\n",
    "def extract_supp(name):\n",
    "    for supp_lower, supp in supp_dict.items():\n",
    "        if supp_lower in name:\n",
    "            return supp\n",
    "    return None # возвращаем None если цвет не найден\n",
    "\n",
    "df_lab2['Supp2'] = df_lab2['Name'].apply(extract_supp)"
   ]
  },
  {
   "cell_type": "code",
   "execution_count": 51,
   "metadata": {},
   "outputs": [],
   "source": [
    "df_lab2['Supplier'] = df_lab2['Supplier'].combine_first(df_lab2['Supp2'])  # Теперь объединим эти данные в один столбец\n",
    "df_lab2.drop(columns='Supp2', inplace=True)"
   ]
  },
  {
   "cell_type": "code",
   "execution_count": 52,
   "metadata": {},
   "outputs": [
    {
     "name": "stdout",
     "output_type": "stream",
     "text": [
      "<class 'pandas.core.frame.DataFrame'>\n",
      "RangeIndex: 716552 entries, 0 to 716551\n",
      "Data columns (total 14 columns):\n",
      " #   Column    Non-Null Count   Dtype  \n",
      "---  ------    --------------   -----  \n",
      " 0   Name      716552 non-null  object \n",
      " 1   Cat_id    716552 non-null  int64  \n",
      " 2   Supplier  715271 non-null  object \n",
      " 3   Pickup    328544 non-null  object \n",
      " 4   Delivery  328544 non-null  object \n",
      " 5   Warranty  328517 non-null  float64\n",
      " 6   Country   288025 non-null  object \n",
      " 7   Weight    320571 non-null  object \n",
      " 8   Width     319618 non-null  float64\n",
      " 9   Height    319618 non-null  float64\n",
      " 10  Length    319618 non-null  float64\n",
      " 11  Color     344851 non-null  object \n",
      " 12  Cashback  169936 non-null  object \n",
      " 13  Model     486427 non-null  object \n",
      "dtypes: float64(4), int64(1), object(9)\n",
      "memory usage: 76.5+ MB\n"
     ]
    }
   ],
   "source": [
    "df_lab2.info()"
   ]
  },
  {
   "cell_type": "markdown",
   "metadata": {},
   "source": [
    "В колонке 'Supplier' количество записей увеличилось с 596 265 до 715 271, что составляет рост более чем на сто тысяч."
   ]
  },
  {
   "cell_type": "code",
   "execution_count": 53,
   "metadata": {},
   "outputs": [
    {
     "data": {
      "text/html": [
       "<div>\n",
       "<style scoped>\n",
       "    .dataframe tbody tr th:only-of-type {\n",
       "        vertical-align: middle;\n",
       "    }\n",
       "\n",
       "    .dataframe tbody tr th {\n",
       "        vertical-align: top;\n",
       "    }\n",
       "\n",
       "    .dataframe thead th {\n",
       "        text-align: right;\n",
       "    }\n",
       "</style>\n",
       "<table border=\"1\" class=\"dataframe\">\n",
       "  <thead>\n",
       "    <tr style=\"text-align: right;\">\n",
       "      <th></th>\n",
       "      <th>Name</th>\n",
       "      <th>Cat_id</th>\n",
       "      <th>Supplier</th>\n",
       "      <th>Pickup</th>\n",
       "      <th>Delivery</th>\n",
       "      <th>Warranty</th>\n",
       "      <th>Country</th>\n",
       "      <th>Weight</th>\n",
       "      <th>Width</th>\n",
       "      <th>Height</th>\n",
       "      <th>Length</th>\n",
       "      <th>Color</th>\n",
       "      <th>Cashback</th>\n",
       "      <th>Model</th>\n",
       "    </tr>\n",
       "  </thead>\n",
       "  <tbody>\n",
       "    <tr>\n",
       "      <th>2555</th>\n",
       "      <td>проводная мембранная клавиатура sven kb-e5700h для компьютера и ноутбука, островная (104 клавиши, usb-hub*2, 12fn, slim)</td>\n",
       "      <td>1291</td>\n",
       "      <td>sven</td>\n",
       "      <td>1</td>\n",
       "      <td>0</td>\n",
       "      <td>1.0</td>\n",
       "      <td>Китай</td>\n",
       "      <td>550</td>\n",
       "      <td>16.5</td>\n",
       "      <td>2.9</td>\n",
       "      <td>46.5</td>\n",
       "      <td>NaN</td>\n",
       "      <td>NaN</td>\n",
       "      <td>KB-E5700H</td>\n",
       "    </tr>\n",
       "    <tr>\n",
       "      <th>642428</th>\n",
       "      <td>проводная клавиатура sven kb-e5700h black (sv-019150)</td>\n",
       "      <td>1291</td>\n",
       "      <td>sven</td>\n",
       "      <td>NaN</td>\n",
       "      <td>NaN</td>\n",
       "      <td>NaN</td>\n",
       "      <td>NaN</td>\n",
       "      <td>NaN</td>\n",
       "      <td>NaN</td>\n",
       "      <td>NaN</td>\n",
       "      <td>NaN</td>\n",
       "      <td>черный</td>\n",
       "      <td>Да</td>\n",
       "      <td>KB-E5700H</td>\n",
       "    </tr>\n",
       "  </tbody>\n",
       "</table>\n",
       "</div>"
      ],
      "text/plain": [
       "                                                                                                                            Name  \\\n",
       "2555    проводная мембранная клавиатура sven kb-e5700h для компьютера и ноутбука, островная (104 клавиши, usb-hub*2, 12fn, slim)   \n",
       "642428                                                                     проводная клавиатура sven kb-e5700h black (sv-019150)   \n",
       "\n",
       "        Cat_id Supplier Pickup Delivery  Warranty Country Weight  Width  \\\n",
       "2555      1291     sven      1        0       1.0   Китай    550   16.5   \n",
       "642428    1291     sven    NaN      NaN       NaN     NaN    NaN    NaN   \n",
       "\n",
       "        Height  Length   Color Cashback      Model  \n",
       "2555       2.9    46.5     NaN      NaN  KB-E5700H  \n",
       "642428     NaN     NaN  черный       Да  KB-E5700H  "
      ]
     },
     "execution_count": 53,
     "metadata": {},
     "output_type": "execute_result"
    }
   ],
   "source": [
    "df_lab2[df_lab2['Model'] == 'KB-E5700H'].head()"
   ]
  },
  {
   "cell_type": "code",
   "execution_count": 54,
   "metadata": {},
   "outputs": [],
   "source": [
    "df_lab2['Country'] = df_lab2['Country'].str.lower().replace('китай (тайвань)', 'китай')"
   ]
  },
  {
   "cell_type": "markdown",
   "metadata": {},
   "source": [
    "# Удаление дубликатов"
   ]
  },
  {
   "cell_type": "markdown",
   "metadata": {},
   "source": [
    "Мы могли бы просто удалить дубликаты на основе столбца 'Модель', однако это не самый эффективный подход. Вместо этого, перед удалением дубликатов, целесообразно заполнить пропущенные значения на основе дублирующихся строк. Такой подход позволяет получить более точные данные, чем заполнение на основе всей выборки"
   ]
  },
  {
   "cell_type": "code",
   "execution_count": 55,
   "metadata": {},
   "outputs": [
    {
     "data": {
      "text/html": [
       "<div>\n",
       "<style scoped>\n",
       "    .dataframe tbody tr th:only-of-type {\n",
       "        vertical-align: middle;\n",
       "    }\n",
       "\n",
       "    .dataframe tbody tr th {\n",
       "        vertical-align: top;\n",
       "    }\n",
       "\n",
       "    .dataframe thead th {\n",
       "        text-align: right;\n",
       "    }\n",
       "</style>\n",
       "<table border=\"1\" class=\"dataframe\">\n",
       "  <thead>\n",
       "    <tr style=\"text-align: right;\">\n",
       "      <th></th>\n",
       "      <th>Name</th>\n",
       "      <th>Cat_id</th>\n",
       "      <th>Supplier</th>\n",
       "      <th>Pickup</th>\n",
       "      <th>Delivery</th>\n",
       "      <th>Warranty</th>\n",
       "      <th>Country</th>\n",
       "      <th>Weight</th>\n",
       "      <th>Width</th>\n",
       "      <th>Height</th>\n",
       "      <th>Length</th>\n",
       "      <th>Color</th>\n",
       "      <th>Cashback</th>\n",
       "      <th>Model</th>\n",
       "    </tr>\n",
       "  </thead>\n",
       "  <tbody>\n",
       "    <tr>\n",
       "      <th>2555</th>\n",
       "      <td>проводная мембранная клавиатура sven kb-e5700h для компьютера и ноутбука, островная (104 клавиши, usb-hub*2, 12fn, slim)</td>\n",
       "      <td>1291</td>\n",
       "      <td>sven</td>\n",
       "      <td>1</td>\n",
       "      <td>0</td>\n",
       "      <td>1.0</td>\n",
       "      <td>китай</td>\n",
       "      <td>550</td>\n",
       "      <td>16.5</td>\n",
       "      <td>2.9</td>\n",
       "      <td>46.5</td>\n",
       "      <td>черный</td>\n",
       "      <td>Да</td>\n",
       "      <td>KB-E5700H</td>\n",
       "    </tr>\n",
       "    <tr>\n",
       "      <th>642428</th>\n",
       "      <td>проводная клавиатура sven kb-e5700h black (sv-019150)</td>\n",
       "      <td>1291</td>\n",
       "      <td>sven</td>\n",
       "      <td>1</td>\n",
       "      <td>0</td>\n",
       "      <td>1.0</td>\n",
       "      <td>китай</td>\n",
       "      <td>550</td>\n",
       "      <td>16.5</td>\n",
       "      <td>2.9</td>\n",
       "      <td>46.5</td>\n",
       "      <td>черный</td>\n",
       "      <td>Да</td>\n",
       "      <td>KB-E5700H</td>\n",
       "    </tr>\n",
       "  </tbody>\n",
       "</table>\n",
       "</div>"
      ],
      "text/plain": [
       "                                                                                                                            Name  \\\n",
       "2555    проводная мембранная клавиатура sven kb-e5700h для компьютера и ноутбука, островная (104 клавиши, usb-hub*2, 12fn, slim)   \n",
       "642428                                                                     проводная клавиатура sven kb-e5700h black (sv-019150)   \n",
       "\n",
       "        Cat_id Supplier Pickup Delivery  Warranty Country Weight  Width  \\\n",
       "2555      1291     sven      1        0       1.0   китай    550   16.5   \n",
       "642428    1291     sven      1        0       1.0   китай    550   16.5   \n",
       "\n",
       "        Height  Length   Color Cashback      Model  \n",
       "2555       2.9    46.5  черный       Да  KB-E5700H  \n",
       "642428     2.9    46.5  черный       Да  KB-E5700H  "
      ]
     },
     "execution_count": 55,
     "metadata": {},
     "output_type": "execute_result"
    }
   ],
   "source": [
    "def fill_missing_values(df):\n",
    "\n",
    "    grouping_cols = ['Cat_id', 'Model']\n",
    "\n",
    "    # Определяем колонки, которые НУЖНО заполнить (все, кроме группирующих)\n",
    "    cols_to_fill = df.columns.difference(grouping_cols)\n",
    "    if cols_to_fill.empty:\n",
    "         print(\"Предупреждение: Нет колонок для заполнения (кроме группирующих). Возвращается копия исходного DataFrame.\")\n",
    "         return df # Если заполнять нечего, возвращаем копию\n",
    "\n",
    "    # Применяем ffill и bfill ТОЛЬКО к нужным колонкам внутри групп\n",
    "    # Это более безопасно, так как не трогает сами группирующие колонки\n",
    "    df[cols_to_fill] = df.groupby(grouping_cols)[cols_to_fill].ffill()\n",
    "    df[cols_to_fill] = df.groupby(grouping_cols)[cols_to_fill].bfill()\n",
    "\n",
    "    # Возвращаем новый DataFrame с сохраненным исходным индексом\n",
    "    return df\n",
    "\n",
    "# Используем copy(), чтобы не изменять исходный DataFrame\n",
    "\n",
    "df_lab3 = fill_missing_values(df_lab2.copy())\n",
    "df_lab3[df_lab3['Model'] == 'KB-E5700H'].head()\n"
   ]
  },
  {
   "cell_type": "code",
   "execution_count": 56,
   "metadata": {},
   "outputs": [],
   "source": [
    "df_lab3 = df_lab3.drop_duplicates()"
   ]
  },
  {
   "cell_type": "code",
   "execution_count": 57,
   "metadata": {},
   "outputs": [
    {
     "name": "stdout",
     "output_type": "stream",
     "text": [
      "<class 'pandas.core.frame.DataFrame'>\n",
      "Index: 447490 entries, 0 to 716548\n",
      "Data columns (total 14 columns):\n",
      " #   Column    Non-Null Count   Dtype  \n",
      "---  ------    --------------   -----  \n",
      " 0   Name      446981 non-null  object \n",
      " 1   Cat_id    447490 non-null  int64  \n",
      " 2   Supplier  446980 non-null  object \n",
      " 3   Pickup    305931 non-null  object \n",
      " 4   Delivery  305931 non-null  object \n",
      " 5   Warranty  305892 non-null  float64\n",
      " 6   Country   269378 non-null  object \n",
      " 7   Weight    299156 non-null  object \n",
      " 8   Width     298358 non-null  float64\n",
      " 9   Height    298358 non-null  float64\n",
      " 10  Length    298358 non-null  float64\n",
      " 11  Color     239208 non-null  object \n",
      " 12  Cashback  107262 non-null  object \n",
      " 13  Model     446981 non-null  object \n",
      "dtypes: float64(4), int64(1), object(9)\n",
      "memory usage: 51.2+ MB\n"
     ]
    }
   ],
   "source": [
    "df_lab3.info()"
   ]
  },
  {
   "cell_type": "markdown",
   "metadata": {},
   "source": [
    "Произведем обработку выбросов и заполнение пропущенных значений в столбцах про размеров, вес и гарантии с использованием средних значений, сгруппированных по категориям и поставщикам товаров."
   ]
  },
  {
   "cell_type": "code",
   "execution_count": 58,
   "metadata": {},
   "outputs": [],
   "source": [
    "df_lab3['Weight'] = pd.to_numeric(df_lab3['Weight'], errors='coerce') # Преобразуем в числовой формат"
   ]
  },
  {
   "cell_type": "code",
   "execution_count": 59,
   "metadata": {},
   "outputs": [],
   "source": [
    "def handle_outliers_and_fill_missing(df, columns_to_process, std_multiplier=3):\n",
    "    \n",
    "    df_processed = df.copy() # Работаем с копией, чтобы не изменять исходный DataFrame\n",
    "    grouping_cols = ['Cat_id', 'Supplier']\n",
    "\n",
    "    # 1. Вычисляем статистики (mean, std) для каждой группы с помощью transform\n",
    "    # transform возвращает Series/DataFrame с тем же индексом, что и исходный df\n",
    "    grouped = df_processed.groupby(grouping_cols)[columns_to_process]\n",
    "    group_means = grouped.transform('mean')\n",
    "    group_stds = grouped.transform('std')\n",
    "\n",
    "    # 2. Определяем границы для выбросов\n",
    "    # Заполняем NaN в std нулем, чтобы избежать проблем при расчете границ \n",
    "    # (например, в группах с одним элементом std=NaN)\n",
    "    upper_bounds = group_means + std_multiplier * group_stds.fillna(0)\n",
    "    lower_bounds = group_means - std_multiplier * group_stds.fillna(0)\n",
    "\n",
    "    # 3. Находим маски выбросов для всех столбцов одновременно\n",
    "    is_outlier = (df_processed[columns_to_process] < lower_bounds) | \\\n",
    "                 (df_processed[columns_to_process] > upper_bounds)\n",
    "\n",
    "    # 4. Заменяем выбросы средним значением группы с помощью where\n",
    "    # df.where(условие, other) оставляет значения из df там, где условие ИСТИНА,\n",
    "    # и берет из other, где ЛОЖЬ. Нам нужно наоборот: оставить, где НЕ выброс.\n",
    "    df_processed[columns_to_process] = df_processed[columns_to_process].where(~is_outlier, group_means)\n",
    "\n",
    "    # 5. Вычисляем медианы групп ПОСЛЕ замены выбросов\n",
    "    # Нужно пересчитать медианы на данных, где выбросы уже заменены\n",
    "    group_medians_after_outliers = df_processed.groupby(grouping_cols)[columns_to_process].transform('median')\n",
    "    \n",
    "    # 6. Заполняем пропуски (исходные и, возможно, возникшие из-за NaN mean/median в группах)\n",
    "    # медианой группы (рассчитанной после замены выбросов)\n",
    "    df_processed[columns_to_process] = df_processed[columns_to_process].fillna(group_medians_after_outliers)\n",
    "\n",
    "    return df_processed\n",
    "\n",
    "columns_to_process = ['Length', 'Height', 'Width', 'Weight', 'Warranty']\n",
    "\n",
    "# Используем функцию\n",
    "df_lab4 = handle_outliers_and_fill_missing(df_lab3, columns_to_process)\n"
   ]
  },
  {
   "cell_type": "markdown",
   "metadata": {},
   "source": [
    "Заполняем отсутствующие значения в категориальных столбцах модальными значениями, сгруппированными по комбинациям категорий и поставщиков."
   ]
  },
  {
   "cell_type": "code",
   "execution_count": 60,
   "metadata": {},
   "outputs": [],
   "source": [
    "cols_to_fill = ['Color', 'Country', 'Pickup','Delivery']\n",
    "grouping_cols = ['Cat_id', 'Supplier']\n",
    "\n",
    "# 1. Функция для безопасного извлечения моды\n",
    "# Возвращает первую моду, если она есть, иначе NaN\n",
    "def get_mode_safe(series):\n",
    "    mode_val = series.mode()\n",
    "    if not mode_val.empty:\n",
    "        return mode_val[0]\n",
    "    return np.nan\n",
    "\n",
    "# 2. Заполнение пропусков модой в группах\n",
    "for col in cols_to_fill:\n",
    "    # Вычисляем моды для каждой группы\n",
    "    group_modes = df_lab4.groupby(grouping_cols)[col].transform(get_mode_safe)\n",
    "\n",
    "    # Заполняем пропуски (NaN) в исходном столбце вычисленными модами\n",
    "    # fillna использует значение из group_modes только там, где в df_lab4[col] было NaN\n",
    "    df_lab4[col] = df_lab4[col].fillna(group_modes)"
   ]
  },
  {
   "cell_type": "code",
   "execution_count": 61,
   "metadata": {},
   "outputs": [
    {
     "name": "stdout",
     "output_type": "stream",
     "text": [
      "<class 'pandas.core.frame.DataFrame'>\n",
      "Index: 447490 entries, 0 to 716548\n",
      "Data columns (total 14 columns):\n",
      " #   Column    Non-Null Count   Dtype  \n",
      "---  ------    --------------   -----  \n",
      " 0   Name      446981 non-null  object \n",
      " 1   Cat_id    447490 non-null  int64  \n",
      " 2   Supplier  446980 non-null  object \n",
      " 3   Pickup    390525 non-null  float64\n",
      " 4   Delivery  390525 non-null  float64\n",
      " 5   Warranty  390565 non-null  float64\n",
      " 6   Country   387335 non-null  object \n",
      " 7   Weight    388753 non-null  float64\n",
      " 8   Width     388402 non-null  float64\n",
      " 9   Height    388402 non-null  float64\n",
      " 10  Length    388402 non-null  float64\n",
      " 11  Color     398480 non-null  object \n",
      " 12  Cashback  107262 non-null  object \n",
      " 13  Model     446981 non-null  object \n",
      "dtypes: float64(7), int64(1), object(6)\n",
      "memory usage: 51.2+ MB\n"
     ]
    }
   ],
   "source": [
    "df_lab4.info()"
   ]
  },
  {
   "cell_type": "code",
   "execution_count": 62,
   "metadata": {},
   "outputs": [
    {
     "data": {
      "text/plain": [
       "array([nan, 'Да', '25', '1', '34', '27', '35', '9', '12', '24', '31', '2',\n",
       "       '16', '29', '47', '6', '3', '21', '32', '40', '30', '5', '19',\n",
       "       '28', '8', '11', '26', '36', '44', '41', '10', '45', '39', '20',\n",
       "       '7', '4', '15', '33', '23', '38', '49', '50', '17', '55', '37',\n",
       "       '60', '18', '22', '53', '54', '43', '13', '46', '14', '42', '56',\n",
       "       '57', '51', '48', '70', '59', '63', '58', '52', '68', '79', 'Нет'],\n",
       "      dtype=object)"
      ]
     },
     "execution_count": 62,
     "metadata": {},
     "output_type": "execute_result"
    }
   ],
   "source": [
    "df_lab4['Cashback'].unique()"
   ]
  },
  {
   "cell_type": "code",
   "execution_count": 63,
   "metadata": {},
   "outputs": [],
   "source": [
    "df_lab4['Cashback'] = np.where(df_lab4['Cashback'] == 'Нет',0,df_lab4['Cashback']) # заменяем значение 'Нет' на 0\n",
    "df_lab4['Cashback'] = np.where(df_lab4['Cashback'] == 'Да',None,df_lab4['Cashback']) # 'Да' на 'None' так как мы не знаем точное значение"
   ]
  },
  {
   "cell_type": "code",
   "execution_count": 64,
   "metadata": {},
   "outputs": [],
   "source": [
    "df_lab4['Cashback'] = pd.to_numeric(df_lab4['Cashback']) # Преобразуем столбец 'Cashback' к числовому типу"
   ]
  },
  {
   "cell_type": "markdown",
   "metadata": {},
   "source": [
    "# Исследовательский анализ данных.\n",
    "    "
   ]
  },
  {
   "cell_type": "markdown",
   "metadata": {},
   "source": [
    "Для построения модели классификации на основе столбца cat_id нужно оценить распределение классов и выявить возможный дисбаланс."
   ]
  },
  {
   "cell_type": "code",
   "execution_count": 65,
   "metadata": {},
   "outputs": [
    {
     "name": "stdout",
     "output_type": "stream",
     "text": [
      "--- Распределение классов в колонке 'Cat_id' ---\n",
      "Общее количество уникальных классов: 776\n",
      "\n",
      "Количество экземпляров на класс (первые 10):\n",
      "Cat_id\n",
      "1030     31000\n",
      "10421    19424\n",
      "10506    18901\n",
      "1006     17991\n",
      "10501    15555\n",
      "31406    15393\n",
      "1370     12922\n",
      "1054     11359\n",
      "1081      8540\n",
      "1003      7928\n",
      "Name: count, dtype: int64\n",
      "\n",
      "Количество экземпляров на класс (последние 10):\n",
      "Cat_id\n",
      "1471     1\n",
      "3379     1\n",
      "14242    1\n",
      "13702    1\n",
      "12384    1\n",
      "30805    1\n",
      "1372     1\n",
      "30757    1\n",
      "3403     1\n",
      "1687     1\n",
      "Name: count, dtype: int64\n"
     ]
    }
   ],
   "source": [
    "target_column = 'Cat_id'\n",
    "\n",
    "# --- 1. Подсчет количества экземпляров для каждого класса ---\n",
    "class_counts = df_lab4[target_column].value_counts()\n",
    "\n",
    "print(f\"--- Распределение классов в колонке '{target_column}' ---\")\n",
    "print(f\"Общее количество уникальных классов: {len(class_counts)}\")\n",
    "print(\"\\nКоличество экземпляров на класс (первые 10):\")\n",
    "print(class_counts.head(10)) # Показать 10 самых частых\n",
    "print(\"\\nКоличество экземпляров на класс (последние 10):\")\n",
    "print(class_counts.tail(10)) # Показать 10 самых редких"
   ]
  },
  {
   "cell_type": "code",
   "execution_count": 66,
   "metadata": {},
   "outputs": [
    {
     "name": "stdout",
     "output_type": "stream",
     "text": [
      "\n",
      "Процентное соотношение классов (первые 10):\n",
      "Cat_id\n",
      "1030     6.93%\n",
      "10421    4.34%\n",
      "10506    4.22%\n",
      "1006     4.02%\n",
      "10501    3.48%\n",
      "31406    3.44%\n",
      "1370     2.89%\n",
      "1054     2.54%\n",
      "1081     1.91%\n",
      "1003     1.77%\n",
      "Name: proportion, dtype: object\n"
     ]
    }
   ],
   "source": [
    "# --- 2. Расчет процентного соотношения классов ---\n",
    "class_percentages = df_lab4[target_column].value_counts(normalize=True) * 100\n",
    "\n",
    "print(\"\\nПроцентное соотношение классов (первые 10):\")\n",
    "print(class_percentages.head(10).round(2).astype(str) + '%')\n"
   ]
  },
  {
   "cell_type": "code",
   "execution_count": 67,
   "metadata": {},
   "outputs": [
    {
     "name": "stdout",
     "output_type": "stream",
     "text": [
      "\n",
      "--- Статистика по количеству экземпляров на класс ---\n",
      "count      776.000000\n",
      "mean       576.662371\n",
      "std       2146.647088\n",
      "min          1.000000\n",
      "25%          1.000000\n",
      "50%         10.000000\n",
      "75%        254.250000\n",
      "max      31000.000000\n",
      "Name: count, dtype: float64\n",
      "\n",
      "Соотношение самого частого к самому редкому классу: 31000.00\n",
      "Обнаружен сильный дисбаланс классов!\n"
     ]
    }
   ],
   "source": [
    "# --- 3. Описательные статистики по количеству экземпляров ---\n",
    "print(\"\\n--- Статистика по количеству экземпляров на класс ---\")\n",
    "# Это покажет минимальное, максимальное, среднее количество и т.д.\n",
    "print(class_counts.describe()) \n",
    "\n",
    "# Определение порога для \"сильного\" дисбаланса\n",
    "max_count = class_counts.max()\n",
    "min_count = class_counts.min()\n",
    "if min_count > 0: # Избегаем деления на ноль, если есть классы с 0 экземплярами (маловероятно с value_counts)\n",
    "    imbalance_ratio = max_count / min_count\n",
    "    print(f\"\\nСоотношение самого частого к самому редкому классу: {imbalance_ratio:.2f}\")\n",
    "    if imbalance_ratio > 100:\n",
    "        print(\"Обнаружен сильный дисбаланс классов!\")\n",
    "    elif imbalance_ratio > 10:\n",
    "         print(\"Обнаружен заметный дисбаланс классов.\")\n",
    "    else:\n",
    "         print(\"Дисбаланс классов умеренный или отсутствует.\")\n",
    "else:\n",
    "    print(\"\\nНе удалось рассчитать соотношение (есть классы с 0 экземплярами или только 1 класс).\")\n"
   ]
  },
  {
   "cell_type": "code",
   "execution_count": 68,
   "metadata": {},
   "outputs": [
    {
     "data": {
      "image/png": "[encoded data removed]",
      "text/plain": [
       "<Figure size 1500x700 with 1 Axes>"
      ]
     },
     "metadata": {},
     "output_type": "display_data"
    }
   ],
   "source": [
    "# --- 4. Визуализация дисбаланса ---\n",
    "# Так как у нас 776 классов, полная гистограмма будет нечитаемой.\n",
    "# Лучше посмотреть на распределение N самых частых или использовать логарифмическую шкалу.\n",
    "\n",
    "plt.figure(figsize=(15, 7)) \n",
    "\n",
    "# Показать N самых частых классов\n",
    "num_classes_to_show = 30 # Сколько классов показать на графике\n",
    "top_classes = class_counts.head(num_classes_to_show)\n",
    "\n",
    "sns.barplot(x=top_classes.index, y=top_classes.values, palette='viridis', order=top_classes.index)\n",
    "plt.title(f'Распределение первых {num_classes_to_show} классов по частоте')\n",
    "plt.xlabel('ID Категории (Сat_id)')\n",
    "plt.ylabel('Количество')\n",
    "plt.xticks(rotation=90) # Повернуть метки, если их много\n",
    "plt.tight_layout() # Чтобы метки не перекрывались\n",
    "plt.show()"
   ]
  },
  {
   "cell_type": "markdown",
   "metadata": {},
   "source": [
    "У нас серезная проблема по дисбалансу классов так как 50 процентов наших классов содержат менше 10 экземпляров внутри себя что делает невозможным исползование таких методов как оверсемплинг или андерсемплинг."
   ]
  },
  {
   "cell_type": "markdown",
   "metadata": {},
   "source": [
    "Пока что оставим все как есть"
   ]
  },
  {
   "cell_type": "code",
   "execution_count": 69,
   "metadata": {},
   "outputs": [],
   "source": [
    "def visualize_top_categories(df, categories, top_n=5):\n",
    "\n",
    "    plt.figure(figsize=(18, 6))\n",
    "\n",
    "    for i, category in enumerate(categories):\n",
    "        top_values = df[category].value_counts().nlargest(top_n)\n",
    "\n",
    "        plt.subplot(1, len(categories), i + 1)\n",
    "        top_values.plot(kind='bar', color=['skyblue', 'lightgreen', 'lightcoral', 'gold', 'lightpink'])  # Добавил цвета\n",
    "        plt.title(f'Топ-{top_n} {category}')\n",
    "        plt.xlabel(category)\n",
    "        plt.ylabel('Количество')\n",
    "\n",
    "    plt.tight_layout()\n",
    "    plt.show()"
   ]
  },
  {
   "cell_type": "code",
   "execution_count": 70,
   "metadata": {},
   "outputs": [
    {
     "data": {
      "image/png": "[encoded data removed]",
      "text/plain": [
       "<Figure size 1800x600 with 3 Axes>"
      ]
     },
     "metadata": {},
     "output_type": "display_data"
    }
   ],
   "source": [
    "visualize_top_categories(df_lab4, ['Color', 'Country', 'Supplier'])"
   ]
  },
  {
   "cell_type": "markdown",
   "metadata": {},
   "source": [
    "    Топ-5 цветов:\n",
    "\n",
    "Черный цвет явно доминирует, имея наибольшее количество записей среди всех цветов.\n",
    "Белый и темный цвета находятся на втором и третьем местах соответственно, но значительно отстают от черного.\n",
    "Серый и серебристый цвета имеют значительно меньшее количество записей, что говорит о их меньшей популярности или распространенности в данном наборе данных.\n",
    "\n",
    "    Топ-5 стран:\n",
    "\n",
    "Китай лидирует с большим отрывом, что указывает на то, что большинство товаров в нашем наборе данных произведено в Китае.\n",
    "Россия занимает второе место, но количество записей значительно ниже, чем у Китая.\n",
    "Италия, Германия и Турция имеют относительно небольшое количество записей, что говорит о их меньшей доле в общем объеме товаров.\n",
    "\n",
    "    Топ-5 поставщиков:\n",
    "\n",
    "Нет бренда является самым распространенным поставщиком, что может указывать на большое количество товаров, продаваемых без указания бренда.\n",
    "desktop 365 и huayu находятся на втором и третьем местах соответственно, но значительно отстают от \"нет бренда\".\n",
    "osm и waq имеют относительно небольшое количество записей, что говорит о их меньшей доле среди поставщиков.\n",
    "\n",
    "    Общие выводы:\n",
    "\n",
    "1. Черный цвет является наиболее популярным среди товаров в данном наборе данных.\n",
    "\n",
    "2. Большинство товаров произведено в Китае.\n",
    "\n",
    "3. Значительная часть товаров продается без указания бренда."
   ]
  },
  {
   "cell_type": "code",
   "execution_count": 71,
   "metadata": {},
   "outputs": [
    {
     "data": {
      "image/png": "[encoded data removed]",
      "text/plain": [
       "<Figure size 1800x1200 with 6 Axes>"
      ]
     },
     "metadata": {},
     "output_type": "display_data"
    }
   ],
   "source": [
    "features = ['Weight', 'Width', 'Height', 'Length', 'Warranty', 'Cashback']\n",
    "\n",
    "plt.figure(figsize=(18, 12))\n",
    "\n",
    "for i, feature in enumerate(features):\n",
    "    plt.subplot(2, 3, i + 1)\n",
    "    if pd.api.types.is_numeric_dtype(df_lab4[feature]):\n",
    "        sns.histplot(df_lab4[feature], kde=True, color='skyblue', edgecolor='black')\n",
    "    else:\n",
    "        sns.countplot(x=feature, data=df_lab4, palette='viridis')\n",
    "        plt.xticks(rotation=45, ha='right')  # Поворачиваем метки для читаемости\n",
    "    plt.title(f'Распределение {feature}', fontsize=14)\n",
    "    plt.xlabel(feature, fontsize=12)\n",
    "    plt.ylabel('Количество', fontsize=12)\n",
    "\n",
    "plt.tight_layout()\n",
    "plt.show()"
   ]
  },
  {
   "cell_type": "code",
   "execution_count": 72,
   "metadata": {},
   "outputs": [
    {
     "data": {
      "text/html": [
       "<div>\n",
       "<style scoped>\n",
       "    .dataframe tbody tr th:only-of-type {\n",
       "        vertical-align: middle;\n",
       "    }\n",
       "\n",
       "    .dataframe tbody tr th {\n",
       "        vertical-align: top;\n",
       "    }\n",
       "\n",
       "    .dataframe thead th {\n",
       "        text-align: right;\n",
       "    }\n",
       "</style>\n",
       "<table border=\"1\" class=\"dataframe\">\n",
       "  <thead>\n",
       "    <tr style=\"text-align: right;\">\n",
       "      <th></th>\n",
       "      <th>Cat_id</th>\n",
       "      <th>Pickup</th>\n",
       "      <th>Delivery</th>\n",
       "      <th>Warranty</th>\n",
       "      <th>Weight</th>\n",
       "      <th>Width</th>\n",
       "      <th>Height</th>\n",
       "      <th>Length</th>\n",
       "      <th>Cashback</th>\n",
       "    </tr>\n",
       "  </thead>\n",
       "  <tbody>\n",
       "    <tr>\n",
       "      <th>count</th>\n",
       "      <td>447490.000000</td>\n",
       "      <td>390525.000000</td>\n",
       "      <td>390525.000000</td>\n",
       "      <td>390565.000000</td>\n",
       "      <td>388753.000000</td>\n",
       "      <td>388402.000000</td>\n",
       "      <td>388402.000000</td>\n",
       "      <td>388402.000000</td>\n",
       "      <td>75315.000000</td>\n",
       "    </tr>\n",
       "    <tr>\n",
       "      <th>mean</th>\n",
       "      <td>7729.193935</td>\n",
       "      <td>0.993355</td>\n",
       "      <td>0.368458</td>\n",
       "      <td>0.706210</td>\n",
       "      <td>3423.028982</td>\n",
       "      <td>17.526833</td>\n",
       "      <td>13.639108</td>\n",
       "      <td>25.435863</td>\n",
       "      <td>16.303910</td>\n",
       "    </tr>\n",
       "    <tr>\n",
       "      <th>std</th>\n",
       "      <td>8736.945965</td>\n",
       "      <td>0.081245</td>\n",
       "      <td>0.482387</td>\n",
       "      <td>0.480201</td>\n",
       "      <td>11596.665899</td>\n",
       "      <td>16.106582</td>\n",
       "      <td>22.773356</td>\n",
       "      <td>23.983135</td>\n",
       "      <td>14.203984</td>\n",
       "    </tr>\n",
       "    <tr>\n",
       "      <th>min</th>\n",
       "      <td>1.000000</td>\n",
       "      <td>0.000000</td>\n",
       "      <td>0.000000</td>\n",
       "      <td>0.000000</td>\n",
       "      <td>0.010000</td>\n",
       "      <td>0.100000</td>\n",
       "      <td>0.100000</td>\n",
       "      <td>0.100000</td>\n",
       "      <td>0.000000</td>\n",
       "    </tr>\n",
       "    <tr>\n",
       "      <th>25%</th>\n",
       "      <td>1116.000000</td>\n",
       "      <td>1.000000</td>\n",
       "      <td>0.000000</td>\n",
       "      <td>0.000000</td>\n",
       "      <td>80.000000</td>\n",
       "      <td>8.000000</td>\n",
       "      <td>3.000000</td>\n",
       "      <td>11.000000</td>\n",
       "      <td>1.000000</td>\n",
       "    </tr>\n",
       "    <tr>\n",
       "      <th>50%</th>\n",
       "      <td>3180.000000</td>\n",
       "      <td>1.000000</td>\n",
       "      <td>0.000000</td>\n",
       "      <td>1.000000</td>\n",
       "      <td>209.000000</td>\n",
       "      <td>11.500000</td>\n",
       "      <td>6.000000</td>\n",
       "      <td>18.000000</td>\n",
       "      <td>12.000000</td>\n",
       "    </tr>\n",
       "    <tr>\n",
       "      <th>75%</th>\n",
       "      <td>10506.000000</td>\n",
       "      <td>1.000000</td>\n",
       "      <td>1.000000</td>\n",
       "      <td>1.000000</td>\n",
       "      <td>805.000000</td>\n",
       "      <td>20.000000</td>\n",
       "      <td>13.000000</td>\n",
       "      <td>30.100000</td>\n",
       "      <td>29.000000</td>\n",
       "    </tr>\n",
       "    <tr>\n",
       "      <th>max</th>\n",
       "      <td>31435.000000</td>\n",
       "      <td>1.000000</td>\n",
       "      <td>1.000000</td>\n",
       "      <td>5.000000</td>\n",
       "      <td>176600.000000</td>\n",
       "      <td>238.000000</td>\n",
       "      <td>250.000000</td>\n",
       "      <td>800.000000</td>\n",
       "      <td>79.000000</td>\n",
       "    </tr>\n",
       "  </tbody>\n",
       "</table>\n",
       "</div>"
      ],
      "text/plain": [
       "              Cat_id         Pickup       Delivery       Warranty  \\\n",
       "count  447490.000000  390525.000000  390525.000000  390565.000000   \n",
       "mean     7729.193935       0.993355       0.368458       0.706210   \n",
       "std      8736.945965       0.081245       0.482387       0.480201   \n",
       "min         1.000000       0.000000       0.000000       0.000000   \n",
       "25%      1116.000000       1.000000       0.000000       0.000000   \n",
       "50%      3180.000000       1.000000       0.000000       1.000000   \n",
       "75%     10506.000000       1.000000       1.000000       1.000000   \n",
       "max     31435.000000       1.000000       1.000000       5.000000   \n",
       "\n",
       "              Weight          Width         Height         Length  \\\n",
       "count  388753.000000  388402.000000  388402.000000  388402.000000   \n",
       "mean     3423.028982      17.526833      13.639108      25.435863   \n",
       "std     11596.665899      16.106582      22.773356      23.983135   \n",
       "min         0.010000       0.100000       0.100000       0.100000   \n",
       "25%        80.000000       8.000000       3.000000      11.000000   \n",
       "50%       209.000000      11.500000       6.000000      18.000000   \n",
       "75%       805.000000      20.000000      13.000000      30.100000   \n",
       "max    176600.000000     238.000000     250.000000     800.000000   \n",
       "\n",
       "           Cashback  \n",
       "count  75315.000000  \n",
       "mean      16.303910  \n",
       "std       14.203984  \n",
       "min        0.000000  \n",
       "25%        1.000000  \n",
       "50%       12.000000  \n",
       "75%       29.000000  \n",
       "max       79.000000  "
      ]
     },
     "execution_count": 72,
     "metadata": {},
     "output_type": "execute_result"
    }
   ],
   "source": [
    "df_lab4.describe() #"
   ]
  },
  {
   "cell_type": "code",
   "execution_count": 73,
   "metadata": {},
   "outputs": [
    {
     "data": {
      "text/html": [
       "<div>\n",
       "<style scoped>\n",
       "    .dataframe tbody tr th:only-of-type {\n",
       "        vertical-align: middle;\n",
       "    }\n",
       "\n",
       "    .dataframe tbody tr th {\n",
       "        vertical-align: top;\n",
       "    }\n",
       "\n",
       "    .dataframe thead th {\n",
       "        text-align: right;\n",
       "    }\n",
       "</style>\n",
       "<table border=\"1\" class=\"dataframe\">\n",
       "  <thead>\n",
       "    <tr style=\"text-align: right;\">\n",
       "      <th></th>\n",
       "      <th>Name</th>\n",
       "      <th>Cat_id</th>\n",
       "      <th>Supplier</th>\n",
       "      <th>Pickup</th>\n",
       "      <th>Delivery</th>\n",
       "      <th>Warranty</th>\n",
       "      <th>Country</th>\n",
       "      <th>Weight</th>\n",
       "      <th>Width</th>\n",
       "      <th>Height</th>\n",
       "      <th>Length</th>\n",
       "      <th>Color</th>\n",
       "      <th>Cashback</th>\n",
       "      <th>Model</th>\n",
       "    </tr>\n",
       "  </thead>\n",
       "  <tbody>\n",
       "    <tr>\n",
       "      <th>54727</th>\n",
       "      <td>комплект для откатных ворот алютех (alutech) с неоцинкованной шиной sg01 (8 м) и стальными роликами до 450 кг., проем до 5,7 м.</td>\n",
       "      <td>30951</td>\n",
       "      <td>alutech</td>\n",
       "      <td>1.0</td>\n",
       "      <td>0.0</td>\n",
       "      <td>1.0</td>\n",
       "      <td>беларусь</td>\n",
       "      <td>54300.0</td>\n",
       "      <td>20.0</td>\n",
       "      <td>27.0</td>\n",
       "      <td>800.0</td>\n",
       "      <td>сталь</td>\n",
       "      <td>NaN</td>\n",
       "      <td>SG01_8 м / стальные опоры роликовые</td>\n",
       "    </tr>\n",
       "    <tr>\n",
       "      <th>292064</th>\n",
       "      <td>комплект для откатных ворот алютех (alutech) с неоцинкованной шиной sg01 (7 м) и стальными роликами до 450 кг., проем до 5 м.</td>\n",
       "      <td>30951</td>\n",
       "      <td>alutech</td>\n",
       "      <td>1.0</td>\n",
       "      <td>0.0</td>\n",
       "      <td>1.0</td>\n",
       "      <td>беларусь</td>\n",
       "      <td>49000.0</td>\n",
       "      <td>20.0</td>\n",
       "      <td>27.0</td>\n",
       "      <td>700.0</td>\n",
       "      <td>сталь</td>\n",
       "      <td>NaN</td>\n",
       "      <td>SG01</td>\n",
       "    </tr>\n",
       "    <tr>\n",
       "      <th>519544</th>\n",
       "      <td>комплект для откатных ворот алютех с шиной 7 м., автоматика ni600z, зубчатая рейка 6 п.м. (вес до 450 кг., проем до 5 м.)</td>\n",
       "      <td>30951</td>\n",
       "      <td>alutech</td>\n",
       "      <td>1.0</td>\n",
       "      <td>1.0</td>\n",
       "      <td>0.0</td>\n",
       "      <td>беларусь</td>\n",
       "      <td>69600.0</td>\n",
       "      <td>45.0</td>\n",
       "      <td>43.0</td>\n",
       "      <td>700.0</td>\n",
       "      <td>сталь</td>\n",
       "      <td>NaN</td>\n",
       "      <td>Alutech+HG</td>\n",
       "    </tr>\n",
       "  </tbody>\n",
       "</table>\n",
       "</div>"
      ],
      "text/plain": [
       "                                                                                                                                   Name  \\\n",
       "54727   комплект для откатных ворот алютех (alutech) с неоцинкованной шиной sg01 (8 м) и стальными роликами до 450 кг., проем до 5,7 м.   \n",
       "292064    комплект для откатных ворот алютех (alutech) с неоцинкованной шиной sg01 (7 м) и стальными роликами до 450 кг., проем до 5 м.   \n",
       "519544        комплект для откатных ворот алютех с шиной 7 м., автоматика ni600z, зубчатая рейка 6 п.м. (вес до 450 кг., проем до 5 м.)   \n",
       "\n",
       "        Cat_id Supplier  Pickup  Delivery  Warranty   Country   Weight  Width  \\\n",
       "54727    30951  alutech     1.0       0.0       1.0  беларусь  54300.0   20.0   \n",
       "292064   30951  alutech     1.0       0.0       1.0  беларусь  49000.0   20.0   \n",
       "519544   30951  alutech     1.0       1.0       0.0  беларусь  69600.0   45.0   \n",
       "\n",
       "        Height  Length  Color  Cashback                                Model  \n",
       "54727     27.0   800.0  сталь       NaN  SG01_8 м / стальные опоры роликовые  \n",
       "292064    27.0   700.0  сталь       NaN                                 SG01  \n",
       "519544    43.0   700.0  сталь       NaN                           Alutech+HG  "
      ]
     },
     "execution_count": 73,
     "metadata": {},
     "output_type": "execute_result"
    }
   ],
   "source": [
    "df_lab4[df_lab4['Length'] >= 700].head()"
   ]
  },
  {
   "cell_type": "markdown",
   "metadata": {},
   "source": [
    "# Подготовка данных для моделирования.\n",
    "    "
   ]
  },
  {
   "cell_type": "markdown",
   "metadata": {},
   "source": [
    "# #1"
   ]
  },
  {
   "cell_type": "markdown",
   "metadata": {},
   "source": [
    "Для обеспечения максимальной чистоты данных будет произведено удаление столбцов 'Name', 'Model' и 'Cashback' из текущего набора данных. Впоследствии будет предпринята повторная процедура дедупликации для устранения возможных дублирующихся записей."
   ]
  },
  {
   "cell_type": "code",
   "execution_count": 74,
   "metadata": {},
   "outputs": [
    {
     "name": "stdout",
     "output_type": "stream",
     "text": [
      "<class 'pandas.core.frame.DataFrame'>\n",
      "Index: 214585 entries, 0 to 716548\n",
      "Data columns (total 11 columns):\n",
      " #   Column    Non-Null Count   Dtype  \n",
      "---  ------    --------------   -----  \n",
      " 0   Cat_id    214585 non-null  int64  \n",
      " 1   Supplier  214075 non-null  object \n",
      " 2   Pickup    203846 non-null  float64\n",
      " 3   Delivery  203846 non-null  float64\n",
      " 4   Warranty  203841 non-null  float64\n",
      " 5   Country   201451 non-null  object \n",
      " 6   Weight    203359 non-null  float64\n",
      " 7   Width     203183 non-null  float64\n",
      " 8   Height    203183 non-null  float64\n",
      " 9   Length    203183 non-null  float64\n",
      " 10  Color     182526 non-null  object \n",
      "dtypes: float64(7), int64(1), object(3)\n",
      "memory usage: 19.6+ MB\n"
     ]
    }
   ],
   "source": [
    "df_lab5 = df_lab4.drop(['Name', 'Model', 'Cashback'], axis=1).drop_duplicates()\n",
    "df_lab5.info()"
   ]
  },
  {
   "cell_type": "markdown",
   "metadata": {},
   "source": [
    "Проверим сново на дисбаланс наших классов"
   ]
  },
  {
   "cell_type": "code",
   "execution_count": 75,
   "metadata": {},
   "outputs": [],
   "source": [
    "target_column = 'Cat_id'\n",
    "class_counts = df_lab5[target_column].value_counts()"
   ]
  },
  {
   "cell_type": "code",
   "execution_count": 76,
   "metadata": {},
   "outputs": [
    {
     "name": "stdout",
     "output_type": "stream",
     "text": [
      "count      776.000000\n",
      "mean       276.527062\n",
      "std        956.626462\n",
      "min          1.000000\n",
      "25%          1.000000\n",
      "50%          7.500000\n",
      "75%        160.250000\n",
      "max      10697.000000\n",
      "Name: count, dtype: float64\n",
      "\n",
      "Соотношение самого частого к самому редкому классу: 10697.00\n",
      "Обнаружен сильный дисбаланс классов!\n"
     ]
    }
   ],
   "source": [
    "print(class_counts.describe()) \n",
    "\n",
    "max_count = class_counts.max()\n",
    "min_count = class_counts.min()\n",
    "if min_count > 0: \n",
    "    imbalance_ratio = max_count / min_count\n",
    "    print(f\"\\nСоотношение самого частого к самому редкому классу: {imbalance_ratio:.2f}\")\n",
    "    if imbalance_ratio > 100:\n",
    "        print(\"Обнаружен сильный дисбаланс классов!\")\n",
    "    elif imbalance_ratio > 10:\n",
    "         print(\"Обнаружен заметный дисбаланс классов.\")\n",
    "    else:\n",
    "         print(\"Дисбаланс классов умеренный или отсутствует.\")\n",
    "else:\n",
    "    print(\"\\nНе удалось рассчитать соотношение (есть классы с 0 экземплярами или только 1 класс).\")\n"
   ]
  },
  {
   "cell_type": "code",
   "execution_count": 77,
   "metadata": {},
   "outputs": [
    {
     "data": {
      "image/png": "[encoded data removed]",
      "text/plain": [
       "<Figure size 1500x700 with 1 Axes>"
      ]
     },
     "metadata": {},
     "output_type": "display_data"
    }
   ],
   "source": [
    "plt.figure(figsize=(15, 7)) \n",
    "\n",
    "num_classes_to_show = 30\n",
    "top_classes = class_counts.head(num_classes_to_show)\n",
    "\n",
    "sns.barplot(x=top_classes.index, y=top_classes.values, palette='viridis', order=top_classes.index)\n",
    "plt.title(f'Распределение первых {num_classes_to_show} классов по частоте')\n",
    "plt.xlabel('ID Категории (Сat_id)')\n",
    "plt.ylabel('Количество')\n",
    "plt.xticks(rotation=90)\n",
    "plt.tight_layout() # Чтобы метки не перекрывались\n",
    "plt.show()"
   ]
  },
  {
   "cell_type": "markdown",
   "metadata": {},
   "source": [
    "Анализ распределения классов выявил существенный дисбаланс. С целью построения более устойчивой модели машинного обучения, ограничим обучающую выборку на 30 наиболее часто встречающимися классами. И также удалим все строки, содержащие нулевые значения\n",
    "\n"
   ]
  },
  {
   "cell_type": "markdown",
   "metadata": {},
   "source": [
    "# #2"
   ]
  },
  {
   "cell_type": "code",
   "execution_count": 139,
   "metadata": {},
   "outputs": [],
   "source": [
    "top_list = top_classes.reset_index()['Cat_id'].to_list()\n",
    "df_lab6 = df_lab5[df_lab5['Cat_id'].isin(top_list)].dropna()"
   ]
  },
  {
   "cell_type": "code",
   "execution_count": 140,
   "metadata": {},
   "outputs": [],
   "source": [
    "from sklearn.model_selection import train_test_split, StratifiedKFold\n",
    "from sklearn.ensemble import RandomForestClassifier\n",
    "from sklearn.metrics import (\n",
    "    classification_report,\n",
    "    confusion_matrix,\n",
    "    f1_score,\n",
    "    accuracy_score,\n",
    "    ConfusionMatrixDisplay\n",
    ")\n",
    "from sklearn.preprocessing import LabelEncoder\n",
    "from sklearn.impute import SimpleImputer\n",
    "\n",
    "import category_encoders as ce"
   ]
  },
  {
   "cell_type": "code",
   "execution_count": 141,
   "metadata": {},
   "outputs": [
    {
     "name": "stdout",
     "output_type": "stream",
     "text": [
      "\n",
      "Целевая переменная: Cat_id\n",
      "Категориальные признаки: ['Supplier', 'Country', 'Color']\n",
      "Числовые признаки: ['Pickup', 'Delivery', 'Warranty', 'Weight', 'Width', 'Height', 'Length']\n"
     ]
    }
   ],
   "source": [
    "target = 'Cat_id'\n",
    "categorical_features = ['Supplier', 'Country', 'Color']\n",
    "\n",
    "# 1 Числовые признаки определим как все float64 и оставшиеся int64 (кроме цели)\n",
    "numerical_features = df_lab6.select_dtypes(include=['float64', 'int64']).columns.tolist()\n",
    "if target in numerical_features:\n",
    "    numerical_features.remove(target) # Удаляем целевую переменную из списка признаков\n",
    "\n",
    "print(f\"\\nЦелевая переменная: {target}\")\n",
    "print(f\"Категориальные признаки: {categorical_features}\")\n",
    "print(f\"Числовые признаки: {numerical_features}\")"
   ]
  },
  {
   "cell_type": "code",
   "execution_count": 142,
   "metadata": {},
   "outputs": [
    {
     "name": "stdout",
     "output_type": "stream",
     "text": [
      "\n",
      "Целевая переменная 'Cat_id' закодирована LabelEncoder.\n",
      "Количество классов: 30\n"
     ]
    }
   ],
   "source": [
    "# 2 Кодирование целевой переменной\n",
    "# Убедимся, что классы закодированы от 0 до N-1\n",
    "label_encoder_y = LabelEncoder()\n",
    "df_lab6[target] = label_encoder_y.fit_transform(df_lab6[target])\n",
    "print(f\"\\nЦелевая переменная '{target}' закодирована LabelEncoder.\")\n",
    "print(f\"Количество классов: {len(label_encoder_y.classes_)}\")"
   ]
  },
  {
   "cell_type": "code",
   "execution_count": 143,
   "metadata": {},
   "outputs": [
    {
     "name": "stdout",
     "output_type": "stream",
     "text": [
      "\n",
      "Данные разделены на обучающую (84637 строк) и тестовую (21160 строк) выборки.\n",
      "Распределение классов в обучающей выборке:\n",
      "Cat_id\n",
      "29    0.100216\n",
      "21    0.090020\n",
      "23    0.080130\n",
      "24    0.073703\n",
      "4     0.062266\n",
      "Name: proportion, dtype: float64\n",
      "\n",
      "Распределение классов в тестовой выборке:\n",
      "Cat_id\n",
      "29    0.100236\n",
      "21    0.090028\n",
      "23    0.080151\n",
      "24    0.073724\n",
      "4     0.062287\n",
      "Name: proportion, dtype: float64\n"
     ]
    }
   ],
   "source": [
    "# 3 Разделение на обучающую и тестовую выборки\n",
    "# Используем stratify=df_lab6[target] для сохранения пропорций классов в обеих выборках,\n",
    "# что важно при дисбалансе классов.\n",
    "X = df_lab6.drop(target, axis=1)\n",
    "y = df_lab6[target]\n",
    "\n",
    "X_train, X_test, y_train, y_test = train_test_split(\n",
    "    X, y,\n",
    "    test_size=0.2, # 20% данных на тест\n",
    "    random_state=42, # Для воспроизводимости\n",
    "    stratify=y      # Учитываем дисбаланс классов при делении\n",
    ")\n",
    "\n",
    "print(f\"\\nДанные разделены на обучающую ({X_train.shape[0]} строк) и тестовую ({X_test.shape[0]} строк) выборки.\")\n",
    "print(\"Распределение классов в обучающей выборке:\")\n",
    "print(y_train.value_counts(normalize=True).head())\n",
    "print(\"\\nРаспределение классов в тестовой выборке:\")\n",
    "print(y_test.value_counts(normalize=True).head())"
   ]
  },
  {
   "cell_type": "code",
   "execution_count": 144,
   "metadata": {},
   "outputs": [
    {
     "name": "stdout",
     "output_type": "stream",
     "text": [
      "\n",
      "Категориальные признаки закодированы с помощью Target Encoding.\n",
      "Пример закодированных данных (обучающая выборка):\n",
      "         Supplier    Country      Color\n",
      "510774  15.673967  15.504067  18.489827\n",
      "252351  25.000000  22.528911  18.489827\n",
      "311938  12.979079  15.504067  14.034973\n",
      "320555  12.979079  15.504067  14.034973\n",
      "577320  15.570535  15.504067  18.489827\n"
     ]
    }
   ],
   "source": [
    "# 4 Target Encoding для категориальных признаков\n",
    "# Используем TargetEncoder из библиотеки category_encoders.\n",
    "# Он имеет встроенные механизмы сглаживания (smoothing) для предотвращения переобучения\n",
    "# и обработки неизвестных категорий в тестовой выборке.\n",
    "# Обучаем энкодер ТОЛЬКО на обучающих данных!\n",
    "target_encoder = ce.TargetEncoder(cols=categorical_features, smoothing=5.0) # smoothing - параметр сглаживания\n",
    "\n",
    "# Обучаем на X_train, y_train\n",
    "X_train_encoded = target_encoder.fit_transform(X_train, y_train)\n",
    "\n",
    "# Применяем обученный энкодер к X_test\n",
    "X_test_encoded = target_encoder.transform(X_test)\n",
    "\n",
    "print(\"\\nКатегориальные признаки закодированы с помощью Target Encoding.\")\n",
    "print(\"Пример закодированных данных (обучающая выборка):\")\n",
    "print(X_train_encoded[categorical_features].head())"
   ]
  },
  {
   "cell_type": "code",
   "execution_count": 145,
   "metadata": {},
   "outputs": [
    {
     "data": {
      "image/png": "[encoded data removed]",
      "text/plain": [
       "<Figure size 1000x800 with 2 Axes>"
      ]
     },
     "metadata": {},
     "output_type": "display_data"
    }
   ],
   "source": [
    "correlation_matrix = pd.concat([X_train_encoded, y_train], axis=1).corr()\n",
    "\n",
    "# Визуализируем матрицу корреляции с помощью тепловой карты\n",
    "plt.figure(figsize=(10, 8))\n",
    "sns.heatmap(correlation_matrix, annot=True, cmap='coolwarm', fmt=\".2f\")\n",
    "plt.title('Матрица корреляции признаков')\n",
    "plt.show()"
   ]
  },
  {
   "cell_type": "markdown",
   "metadata": {},
   "source": [
    "Анализ корреляций показывает, что признак 'Pickup' не имеет значимой связи ни с другими признаками, ни с целевой переменной, что свидетельствует о его потенциальной бесполезности для модели."
   ]
  },
  {
   "cell_type": "code",
   "execution_count": 146,
   "metadata": {},
   "outputs": [],
   "source": [
    "X_test_encoded = X_test_encoded.drop('Pickup', axis=1)\n",
    "X_train_encoded = X_train_encoded.drop('Pickup', axis=1)"
   ]
  },
  {
   "cell_type": "markdown",
   "metadata": {},
   "source": [
    "# Построение модели."
   ]
  },
  {
   "cell_type": "markdown",
   "metadata": {},
   "source": [
    "# #1 модель \"Random Forest\""
   ]
  },
  {
   "cell_type": "code",
   "execution_count": 147,
   "metadata": {},
   "outputs": [
    {
     "name": "stdout",
     "output_type": "stream",
     "text": [
      "\n",
      "Начинаем обучение модели Random Forest...\n",
      "Модель обучена.\n"
     ]
    }
   ],
   "source": [
    "# ---1\n",
    "# Используем class_weight='balanced' для автоматической корректировки весов\n",
    "# классов в соответствии с их частотой, чтобы бороться с дисбалансом.\n",
    "rf_model = RandomForestClassifier(\n",
    "    n_estimators=200,       # Количество деревьев \n",
    "    random_state=42,        # Для воспроизводимости\n",
    "    class_weight='balanced',# Учитываем дисбаланс классов\n",
    "    n_jobs=-1,              # Использовать все доступные ядра процессора\n",
    "    max_depth=25,           # Ограничение глубины деревьев \n",
    "    min_samples_split=5,    # Мин. кол-во объектов для разделения узла \n",
    "    min_samples_leaf=3      # Мин. кол-во объектов в листе \n",
    ")\n",
    "\n",
    "print(\"\\nНачинаем обучение модели Random Forest...\")\n",
    "# Обучаем модель на закодированных обучающих данных\n",
    "rf_model.fit(X_train_encoded, y_train)\n",
    "print(\"Модель обучена.\")"
   ]
  },
  {
   "cell_type": "code",
   "execution_count": 148,
   "metadata": {},
   "outputs": [
    {
     "name": "stdout",
     "output_type": "stream",
     "text": [
      "\n",
      "Предсказания сделаны на тестовой выборке.\n"
     ]
    }
   ],
   "source": [
    "# --- 2. Предсказание на тестовой выборке ---\n",
    "y_pred = rf_model.predict(X_test_encoded)\n",
    "print(\"\\nПредсказания сделаны на тестовой выборке.\")"
   ]
  },
  {
   "cell_type": "code",
   "execution_count": 149,
   "metadata": {},
   "outputs": [
    {
     "name": "stdout",
     "output_type": "stream",
     "text": [
      "\n",
      "--- Оценка качества модели ---\n",
      "Accuracy: 0.7714\n",
      "Weighted F1-score: 0.7725\n",
      "Macro F1-score: 0.7522\n"
     ]
    }
   ],
   "source": [
    "# --- 3. Оценка качества модели ---\n",
    "print(\"\\n--- Оценка качества модели ---\")\n",
    "\n",
    "# Accuracy (для сравнения)\n",
    "accuracy = accuracy_score(y_test, y_pred)\n",
    "print(f\"Accuracy: {accuracy:.4f}\")\n",
    "\n",
    "# Weighted F1-score (основная метрика при дисбалансе)\n",
    "weighted_f1 = f1_score(y_test, y_pred, average='weighted')\n",
    "print(f\"Weighted F1-score: {weighted_f1:.4f}\")\n",
    "\n",
    "# Macro F1-score (оценка без учета размера класса)\n",
    "macro_f1 = f1_score(y_test, y_pred, average='macro')\n",
    "print(f\"Macro F1-score: {macro_f1:.4f}\")"
   ]
  },
  {
   "cell_type": "code",
   "execution_count": 150,
   "metadata": {},
   "outputs": [
    {
     "name": "stdout",
     "output_type": "stream",
     "text": [
      "\n",
      "Важность признаков:\n",
      "          importance\n",
      "Supplier    0.295337\n",
      "Weight      0.155959\n",
      "Length      0.123306\n",
      "Width       0.117747\n",
      "Height      0.115532\n",
      "Color       0.097544\n",
      "Country     0.050930\n",
      "Warranty    0.022601\n",
      "Delivery    0.021045\n"
     ]
    },
    {
     "data": {
      "image/png": "[encoded data removed]",
      "text/plain": [
       "<Figure size 1000x800 with 1 Axes>"
      ]
     },
     "metadata": {},
     "output_type": "display_data"
    }
   ],
   "source": [
    "# Важность признаков \n",
    "feature_importances = pd.DataFrame(rf_model.feature_importances_,\n",
    "                                index = X_train_encoded.columns,\n",
    "                                columns=['importance']).sort_values('importance', ascending=False)\n",
    "print(\"\\nВажность признаков:\")\n",
    "print(feature_importances.head(15))\n",
    "\n",
    "# Визуализация важности признаков\n",
    "plt.figure(figsize=(10, 8))\n",
    "sns.barplot(x=feature_importances.importance.head(15), y=feature_importances.index[:15])\n",
    "plt.title('Feature Importances')\n",
    "plt.xlabel('Importance Score')\n",
    "plt.ylabel('Features')\n",
    "plt.tight_layout()\n",
    "plt.show()"
   ]
  },
  {
   "cell_type": "markdown",
   "metadata": {},
   "source": [
    "# #2 модель \"XGBoost\""
   ]
  },
  {
   "cell_type": "code",
   "execution_count": 151,
   "metadata": {},
   "outputs": [],
   "source": [
    "import xgboost as xgb\n",
    "from sklearn.utils import class_weight"
   ]
  },
  {
   "cell_type": "code",
   "execution_count": 152,
   "metadata": {},
   "outputs": [
    {
     "name": "stdout",
     "output_type": "stream",
     "text": [
      "\n",
      "Начинаем обучение модели XGBoost...\n",
      "Модель обучена.\n"
     ]
    }
   ],
   "source": [
    "\n",
    "# Расчет весов классов для учета дисбаланса\n",
    "class_weights = class_weight.compute_sample_weight('balanced', y_train)\n",
    "\n",
    "# ---1. Создание модели XGBoost Classifier\n",
    "xg_model = xgb.XGBClassifier(\n",
    "    objective='multi:softmax',  # Для многоклассовой классификации\n",
    "    num_class=len(y.unique()),  # Количество классов\n",
    "    n_estimators=200,  # Максимальное количество итераций\n",
    "    n_jobs=-1,  # Использовать все доступные ядра\n",
    "    random_state=42\n",
    ")\n",
    "print(\"\\nНачинаем обучение модели XGBoost...\")\n",
    "\n",
    "# Обучаем модель на закодированных обучающих данных и с учетом весов классов\n",
    "xg_model.fit(X_train_encoded, y_train, sample_weight=class_weights)\n",
    "print(\"Модель обучена.\")"
   ]
  },
  {
   "cell_type": "code",
   "execution_count": 153,
   "metadata": {},
   "outputs": [],
   "source": [
    "# --- 2. Прогнозирование на тестовом наборе\n",
    "y_pred_xg = xg_model.predict(X_test_encoded)"
   ]
  },
  {
   "cell_type": "code",
   "execution_count": 154,
   "metadata": {},
   "outputs": [
    {
     "name": "stdout",
     "output_type": "stream",
     "text": [
      "\n",
      "--- Оценка качества модели ---\n",
      "Accuracy: 0.8197\n",
      "Weighted F1-score: 0.8208\n",
      "Macro F1-score: 0.8064\n"
     ]
    }
   ],
   "source": [
    "# --- 3. Оценка качества модели ---\n",
    "print(\"\\n--- Оценка качества модели ---\")\n",
    "\n",
    "# Accuracy (для сравнения)\n",
    "accuracy = accuracy_score(y_test, y_pred_xg)\n",
    "print(f\"Accuracy: {accuracy:.4f}\")\n",
    "\n",
    "# Weighted F1-score (основная метрика при дисбалансе)\n",
    "weighted_f1 = f1_score(y_test, y_pred_xg, average='weighted')\n",
    "print(f\"Weighted F1-score: {weighted_f1:.4f}\")\n",
    "\n",
    "# Macro F1-score (оценка без учета размера класса)\n",
    "macro_f1 = f1_score(y_test, y_pred_xg, average='macro')\n",
    "print(f\"Macro F1-score: {macro_f1:.4f}\")"
   ]
  },
  {
   "cell_type": "code",
   "execution_count": 155,
   "metadata": {},
   "outputs": [
    {
     "name": "stdout",
     "output_type": "stream",
     "text": [
      "\n",
      "Важность признаков:\n",
      "          importance\n",
      "Supplier    0.205533\n",
      "Delivery    0.138259\n",
      "Country     0.135572\n",
      "Weight      0.129853\n",
      "Color       0.125593\n",
      "Warranty    0.083584\n",
      "Length      0.061237\n",
      "Width       0.061112\n",
      "Height      0.059256\n"
     ]
    },
    {
     "data": {
      "image/png": "[encoded data removed]",
      "text/plain": [
       "<Figure size 1000x800 with 1 Axes>"
      ]
     },
     "metadata": {},
     "output_type": "display_data"
    }
   ],
   "source": [
    "# Важность признаков \n",
    "feature_importances = pd.DataFrame(xg_model.feature_importances_,\n",
    "                                index = X_train_encoded.columns,\n",
    "                                columns=['importance']).sort_values('importance', ascending=False)\n",
    "print(\"\\nВажность признаков:\")\n",
    "print(feature_importances.head(15))\n",
    "\n",
    "# Визуализация важности признаков\n",
    "plt.figure(figsize=(10, 8))\n",
    "sns.barplot(x=feature_importances.importance.head(15), y=feature_importances.index[:15])\n",
    "plt.title('Feature Importances')\n",
    "plt.xlabel('Importance Score')\n",
    "plt.ylabel('Features')\n",
    "plt.tight_layout()\n",
    "plt.show()"
   ]
  },
  {
   "cell_type": "markdown",
   "metadata": {},
   "source": [
    "# #3 модель KNN"
   ]
  },
  {
   "cell_type": "code",
   "execution_count": 156,
   "metadata": {},
   "outputs": [],
   "source": [
    "from sklearn.neighbors import KNeighborsClassifier\n",
    "from imblearn.over_sampling import SMOTE"
   ]
  },
  {
   "cell_type": "code",
   "execution_count": 157,
   "metadata": {},
   "outputs": [],
   "source": [
    "# Обработка дисбаланса классов с помощью SMOTE\n",
    "smote = SMOTE(random_state=42)\n",
    "X_train_resampled, y_train_resampled = smote.fit_resample(X_train_encoded, y_train)\n",
    "\n"
   ]
  },
  {
   "cell_type": "code",
   "execution_count": 158,
   "metadata": {},
   "outputs": [
    {
     "name": "stdout",
     "output_type": "stream",
     "text": [
      "\n",
      "Начинаем обучение модели k-NN...\n",
      "Модель обучена.\n"
     ]
    }
   ],
   "source": [
    "# Создание и обучение модели k-NN\n",
    "knn_model = KNeighborsClassifier(n_neighbors=3, n_jobs=-1) \n",
    "print(\"\\nНачинаем обучение модели k-NN...\")\n",
    "\n",
    "knn_model.fit(X_train_resampled, y_train_resampled)\n",
    "print(\"Модель обучена.\")"
   ]
  },
  {
   "cell_type": "code",
   "execution_count": 159,
   "metadata": {},
   "outputs": [],
   "source": [
    "# Прогнозирование на тестовой выборке\n",
    "y_pred_knn = knn_model.predict(X_test_encoded)"
   ]
  },
  {
   "cell_type": "code",
   "execution_count": 160,
   "metadata": {},
   "outputs": [
    {
     "name": "stdout",
     "output_type": "stream",
     "text": [
      "\n",
      "--- Оценка качества модели ---\n",
      "Accuracy: 0.5740\n",
      "Weighted F1-score: 0.5782\n",
      "Macro F1-score: 0.5417\n"
     ]
    }
   ],
   "source": [
    "# --- 3. Оценка качества модели ---\n",
    "print(\"\\n--- Оценка качества модели ---\")\n",
    "\n",
    "# Accuracy (для сравнения)\n",
    "accuracy = accuracy_score(y_test, y_pred_knn)\n",
    "print(f\"Accuracy: {accuracy:.4f}\")\n",
    "\n",
    "# Weighted F1-score (основная метрика при дисбалансе)\n",
    "weighted_f1 = f1_score(y_test, y_pred_knn, average='weighted')\n",
    "print(f\"Weighted F1-score: {weighted_f1:.4f}\")\n",
    "\n",
    "# Macro F1-score (оценка без учета размера класса)\n",
    "macro_f1 = f1_score(y_test, y_pred_knn, average='macro')\n",
    "print(f\"Macro F1-score: {macro_f1:.4f}\")"
   ]
  },
  {
   "cell_type": "markdown",
   "metadata": {},
   "source": [
    "Общий анализ:\n",
    "\n",
    "    RandomForest:\n",
    "Показывает достаточно хорошие результаты с точностью около 77%.\n",
    "\n",
    "Взвешенная F1-мера немного выше, что указывает на способность модели справляться с несбалансированными классами.\n",
    "\n",
    "Макро-F1-мера немного ниже, что говорит о возможных трудностях с классами, представленными меньшим количеством данных.\n",
    "\n",
    "    XGBoost:\n",
    "Демонстрирует лучшие результаты среди трех моделей с точностью около 82%.\n",
    "\n",
    "Также показывает хорошие значения взвешенной и макро-F1-меры, что свидетельствует о стабильной работе модели.\n",
    "\n",
    "    k-NN:\n",
    "Показывает самые низкие результаты с точностью около 58%.\n",
    "\n",
    "Значения F1-меры также низкие, что указывает на недостаточную эффективность модели на данном наборе данных."
   ]
  },
  {
   "cell_type": "markdown",
   "metadata": {},
   "source": [
    "# Заключение:\n",
    "\n",
    "Модель XGBoost показала наилучшие результаты, что делает ее наиболее предпочтительной для данного набора данных.                                                                   \n",
    "Модель RandomForest также демонстрирует приемлемые результаты, но немного уступает XGBoost.                                                                                        \n",
    "Модель k-NN показывает наихудший результат из трех, и вероятно не подходит для этих данных без дополнительной настройки гиперпараметров или предварительной обработки.             \n",
    "Из этого анализа можно сделать вывод, что ансамблевые методы, такие как XGBoost и RandomForest, лучше справляются с задачей классификации на данном наборе данных, чем метод    k-ближайших соседей."
   ]
  }
 ],
 "metadata": {
  "kernelspec": {
   "display_name": "Python 3",
   "language": "python",
   "name": "python3"
  },
  "language_info": {
   "codemirror_mode": {
    "name": "ipython",
    "version": 3
   },
   "file_extension": ".py",
   "mimetype": "text/x-python",
   "name": "python",
   "nbconvert_exporter": "python",
   "pygments_lexer": "ipython3",
   "version": "3.13.2"
  }
 },
 "nbformat": 4,
 "nbformat_minor": 2
}
